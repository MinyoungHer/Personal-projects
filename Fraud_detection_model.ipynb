{
  "cells": [
    {
      "cell_type": "markdown",
      "metadata": {
        "id": "view-in-github",
        "colab_type": "text"
      },
      "source": [
        "<a href=\"https://colab.research.google.com/github/MinyoungHer/-projects-/blob/main/Fraud_detection_model.ipynb\" target=\"_parent\"><img src=\"https://colab.research.google.com/assets/colab-badge.svg\" alt=\"Open In Colab\"/></a>"
      ]
    },
    {
      "cell_type": "markdown",
      "metadata": {
        "id": "KG0XyfBzb34U"
      },
      "source": [
        "# 신용카드 이상치 탐색 모델 프로젝트\n",
        "* 약 28만건의 신용카드 거래 데이터 중에서 이상거래(Fraud)를 감지해내는 프로그램"
      ]
    },
    {
      "cell_type": "markdown",
      "metadata": {
        "id": "2YgOF5B-cKAN"
      },
      "source": [
        "## 0.Data loading\n",
        "* 신용카드 거래내역 데이터를 구글 드라이브에 저장하고 불러온다."
      ]
    },
    {
      "cell_type": "code",
      "execution_count": 95,
      "metadata": {
        "colab": {
          "base_uri": "https://localhost:8080/"
        },
        "id": "rF5mvhNz4IL6",
        "outputId": "9be410e7-f95c-47fa-8f9c-1ce694d6d448"
      },
      "outputs": [
        {
          "output_type": "stream",
          "name": "stdout",
          "text": [
            "Drive already mounted at /content/drive; to attempt to forcibly remount, call drive.mount(\"/content/drive\", force_remount=True).\n"
          ]
        }
      ],
      "source": [
        "from google.colab import drive\n",
        "drive.mount('/content/drive')"
      ]
    },
    {
      "cell_type": "markdown",
      "metadata": {
        "id": "dFo9YrobcV-z"
      },
      "source": [
        "이를 data라는 변수로 저장하였다."
      ]
    },
    {
      "cell_type": "code",
      "execution_count": 96,
      "metadata": {
        "id": "Pxqsobf-6L8M"
      },
      "outputs": [],
      "source": [
        "import pandas as pd\n",
        "data=pd.read_csv('/content/drive/MyDrive/creditcard (1).csv')"
      ]
    },
    {
      "cell_type": "markdown",
      "metadata": {
        "id": "WIagcCffdib8"
      },
      "source": [
        "## 1.EDA(Exploaratory Data Analysis)"
      ]
    },
    {
      "cell_type": "markdown",
      "metadata": {
        "id": "vkXy4ZeQcbDB"
      },
      "source": [
        "* 가볍게 데이터를 살펴보았다. 총 31개의 변수가 있는 것을 확인할 수 있었다.\n",
        "* 대부분의 변수들은 주성분 분석이 된 형태였고, class라는 변수가 이상치거래와 정상거래를 구분하는 범주형 변수이다.\n",
        "* 이 범주형 변수를 종속변수로 사용하여 로지스틱 회귀 모델링을 시도해야겠다.\n",
        "* 각 거래가 정상거래인지, 이상거래인지 분류, 예측을 위한 모델이다."
      ]
    },
    {
      "cell_type": "code",
      "execution_count": 97,
      "metadata": {
        "colab": {
          "base_uri": "https://localhost:8080/",
          "height": 279
        },
        "id": "gmaEeFn-86VL",
        "outputId": "03475767-6d21-453b-bdc0-f8f1566b6d8d"
      },
      "outputs": [
        {
          "output_type": "execute_result",
          "data": {
            "text/plain": [
              "   Time        V1        V2        V3        V4        V5        V6        V7  \\\n",
              "0   0.0 -1.359807 -0.072781  2.536347  1.378155 -0.338321  0.462388  0.239599   \n",
              "1   0.0  1.191857  0.266151  0.166480  0.448154  0.060018 -0.082361 -0.078803   \n",
              "2   1.0 -1.358354 -1.340163  1.773209  0.379780 -0.503198  1.800499  0.791461   \n",
              "3   1.0 -0.966272 -0.185226  1.792993 -0.863291 -0.010309  1.247203  0.237609   \n",
              "4   2.0 -1.158233  0.877737  1.548718  0.403034 -0.407193  0.095921  0.592941   \n",
              "\n",
              "         V8        V9  ...       V21       V22       V23       V24       V25  \\\n",
              "0  0.098698  0.363787  ... -0.018307  0.277838 -0.110474  0.066928  0.128539   \n",
              "1  0.085102 -0.255425  ... -0.225775 -0.638672  0.101288 -0.339846  0.167170   \n",
              "2  0.247676 -1.514654  ...  0.247998  0.771679  0.909412 -0.689281 -0.327642   \n",
              "3  0.377436 -1.387024  ... -0.108300  0.005274 -0.190321 -1.175575  0.647376   \n",
              "4 -0.270533  0.817739  ... -0.009431  0.798278 -0.137458  0.141267 -0.206010   \n",
              "\n",
              "        V26       V27       V28  Amount  Class  \n",
              "0 -0.189115  0.133558 -0.021053  149.62      0  \n",
              "1  0.125895 -0.008983  0.014724    2.69      0  \n",
              "2 -0.139097 -0.055353 -0.059752  378.66      0  \n",
              "3 -0.221929  0.062723  0.061458  123.50      0  \n",
              "4  0.502292  0.219422  0.215153   69.99      0  \n",
              "\n",
              "[5 rows x 31 columns]"
            ],
            "text/html": [
              "\n",
              "\n",
              "  <div id=\"df-0b0228c7-78c8-43d6-880c-786d9a9e6b6c\">\n",
              "    <div class=\"colab-df-container\">\n",
              "      <div>\n",
              "<style scoped>\n",
              "    .dataframe tbody tr th:only-of-type {\n",
              "        vertical-align: middle;\n",
              "    }\n",
              "\n",
              "    .dataframe tbody tr th {\n",
              "        vertical-align: top;\n",
              "    }\n",
              "\n",
              "    .dataframe thead th {\n",
              "        text-align: right;\n",
              "    }\n",
              "</style>\n",
              "<table border=\"1\" class=\"dataframe\">\n",
              "  <thead>\n",
              "    <tr style=\"text-align: right;\">\n",
              "      <th></th>\n",
              "      <th>Time</th>\n",
              "      <th>V1</th>\n",
              "      <th>V2</th>\n",
              "      <th>V3</th>\n",
              "      <th>V4</th>\n",
              "      <th>V5</th>\n",
              "      <th>V6</th>\n",
              "      <th>V7</th>\n",
              "      <th>V8</th>\n",
              "      <th>V9</th>\n",
              "      <th>...</th>\n",
              "      <th>V21</th>\n",
              "      <th>V22</th>\n",
              "      <th>V23</th>\n",
              "      <th>V24</th>\n",
              "      <th>V25</th>\n",
              "      <th>V26</th>\n",
              "      <th>V27</th>\n",
              "      <th>V28</th>\n",
              "      <th>Amount</th>\n",
              "      <th>Class</th>\n",
              "    </tr>\n",
              "  </thead>\n",
              "  <tbody>\n",
              "    <tr>\n",
              "      <th>0</th>\n",
              "      <td>0.0</td>\n",
              "      <td>-1.359807</td>\n",
              "      <td>-0.072781</td>\n",
              "      <td>2.536347</td>\n",
              "      <td>1.378155</td>\n",
              "      <td>-0.338321</td>\n",
              "      <td>0.462388</td>\n",
              "      <td>0.239599</td>\n",
              "      <td>0.098698</td>\n",
              "      <td>0.363787</td>\n",
              "      <td>...</td>\n",
              "      <td>-0.018307</td>\n",
              "      <td>0.277838</td>\n",
              "      <td>-0.110474</td>\n",
              "      <td>0.066928</td>\n",
              "      <td>0.128539</td>\n",
              "      <td>-0.189115</td>\n",
              "      <td>0.133558</td>\n",
              "      <td>-0.021053</td>\n",
              "      <td>149.62</td>\n",
              "      <td>0</td>\n",
              "    </tr>\n",
              "    <tr>\n",
              "      <th>1</th>\n",
              "      <td>0.0</td>\n",
              "      <td>1.191857</td>\n",
              "      <td>0.266151</td>\n",
              "      <td>0.166480</td>\n",
              "      <td>0.448154</td>\n",
              "      <td>0.060018</td>\n",
              "      <td>-0.082361</td>\n",
              "      <td>-0.078803</td>\n",
              "      <td>0.085102</td>\n",
              "      <td>-0.255425</td>\n",
              "      <td>...</td>\n",
              "      <td>-0.225775</td>\n",
              "      <td>-0.638672</td>\n",
              "      <td>0.101288</td>\n",
              "      <td>-0.339846</td>\n",
              "      <td>0.167170</td>\n",
              "      <td>0.125895</td>\n",
              "      <td>-0.008983</td>\n",
              "      <td>0.014724</td>\n",
              "      <td>2.69</td>\n",
              "      <td>0</td>\n",
              "    </tr>\n",
              "    <tr>\n",
              "      <th>2</th>\n",
              "      <td>1.0</td>\n",
              "      <td>-1.358354</td>\n",
              "      <td>-1.340163</td>\n",
              "      <td>1.773209</td>\n",
              "      <td>0.379780</td>\n",
              "      <td>-0.503198</td>\n",
              "      <td>1.800499</td>\n",
              "      <td>0.791461</td>\n",
              "      <td>0.247676</td>\n",
              "      <td>-1.514654</td>\n",
              "      <td>...</td>\n",
              "      <td>0.247998</td>\n",
              "      <td>0.771679</td>\n",
              "      <td>0.909412</td>\n",
              "      <td>-0.689281</td>\n",
              "      <td>-0.327642</td>\n",
              "      <td>-0.139097</td>\n",
              "      <td>-0.055353</td>\n",
              "      <td>-0.059752</td>\n",
              "      <td>378.66</td>\n",
              "      <td>0</td>\n",
              "    </tr>\n",
              "    <tr>\n",
              "      <th>3</th>\n",
              "      <td>1.0</td>\n",
              "      <td>-0.966272</td>\n",
              "      <td>-0.185226</td>\n",
              "      <td>1.792993</td>\n",
              "      <td>-0.863291</td>\n",
              "      <td>-0.010309</td>\n",
              "      <td>1.247203</td>\n",
              "      <td>0.237609</td>\n",
              "      <td>0.377436</td>\n",
              "      <td>-1.387024</td>\n",
              "      <td>...</td>\n",
              "      <td>-0.108300</td>\n",
              "      <td>0.005274</td>\n",
              "      <td>-0.190321</td>\n",
              "      <td>-1.175575</td>\n",
              "      <td>0.647376</td>\n",
              "      <td>-0.221929</td>\n",
              "      <td>0.062723</td>\n",
              "      <td>0.061458</td>\n",
              "      <td>123.50</td>\n",
              "      <td>0</td>\n",
              "    </tr>\n",
              "    <tr>\n",
              "      <th>4</th>\n",
              "      <td>2.0</td>\n",
              "      <td>-1.158233</td>\n",
              "      <td>0.877737</td>\n",
              "      <td>1.548718</td>\n",
              "      <td>0.403034</td>\n",
              "      <td>-0.407193</td>\n",
              "      <td>0.095921</td>\n",
              "      <td>0.592941</td>\n",
              "      <td>-0.270533</td>\n",
              "      <td>0.817739</td>\n",
              "      <td>...</td>\n",
              "      <td>-0.009431</td>\n",
              "      <td>0.798278</td>\n",
              "      <td>-0.137458</td>\n",
              "      <td>0.141267</td>\n",
              "      <td>-0.206010</td>\n",
              "      <td>0.502292</td>\n",
              "      <td>0.219422</td>\n",
              "      <td>0.215153</td>\n",
              "      <td>69.99</td>\n",
              "      <td>0</td>\n",
              "    </tr>\n",
              "  </tbody>\n",
              "</table>\n",
              "<p>5 rows × 31 columns</p>\n",
              "</div>\n",
              "      <button class=\"colab-df-convert\" onclick=\"convertToInteractive('df-0b0228c7-78c8-43d6-880c-786d9a9e6b6c')\"\n",
              "              title=\"Convert this dataframe to an interactive table.\"\n",
              "              style=\"display:none;\">\n",
              "\n",
              "  <svg xmlns=\"http://www.w3.org/2000/svg\" height=\"24px\"viewBox=\"0 0 24 24\"\n",
              "       width=\"24px\">\n",
              "    <path d=\"M0 0h24v24H0V0z\" fill=\"none\"/>\n",
              "    <path d=\"M18.56 5.44l.94 2.06.94-2.06 2.06-.94-2.06-.94-.94-2.06-.94 2.06-2.06.94zm-11 1L8.5 8.5l.94-2.06 2.06-.94-2.06-.94L8.5 2.5l-.94 2.06-2.06.94zm10 10l.94 2.06.94-2.06 2.06-.94-2.06-.94-.94-2.06-.94 2.06-2.06.94z\"/><path d=\"M17.41 7.96l-1.37-1.37c-.4-.4-.92-.59-1.43-.59-.52 0-1.04.2-1.43.59L10.3 9.45l-7.72 7.72c-.78.78-.78 2.05 0 2.83L4 21.41c.39.39.9.59 1.41.59.51 0 1.02-.2 1.41-.59l7.78-7.78 2.81-2.81c.8-.78.8-2.07 0-2.86zM5.41 20L4 18.59l7.72-7.72 1.47 1.35L5.41 20z\"/>\n",
              "  </svg>\n",
              "      </button>\n",
              "\n",
              "\n",
              "\n",
              "    <div id=\"df-c5d22408-8158-4266-b726-c48eb7178bec\">\n",
              "      <button class=\"colab-df-quickchart\" onclick=\"quickchart('df-c5d22408-8158-4266-b726-c48eb7178bec')\"\n",
              "              title=\"Suggest charts.\"\n",
              "              style=\"display:none;\">\n",
              "\n",
              "<svg xmlns=\"http://www.w3.org/2000/svg\" height=\"24px\"viewBox=\"0 0 24 24\"\n",
              "     width=\"24px\">\n",
              "    <g>\n",
              "        <path d=\"M19 3H5c-1.1 0-2 .9-2 2v14c0 1.1.9 2 2 2h14c1.1 0 2-.9 2-2V5c0-1.1-.9-2-2-2zM9 17H7v-7h2v7zm4 0h-2V7h2v10zm4 0h-2v-4h2v4z\"/>\n",
              "    </g>\n",
              "</svg>\n",
              "      </button>\n",
              "    </div>\n",
              "\n",
              "<style>\n",
              "  .colab-df-quickchart {\n",
              "    background-color: #E8F0FE;\n",
              "    border: none;\n",
              "    border-radius: 50%;\n",
              "    cursor: pointer;\n",
              "    display: none;\n",
              "    fill: #1967D2;\n",
              "    height: 32px;\n",
              "    padding: 0 0 0 0;\n",
              "    width: 32px;\n",
              "  }\n",
              "\n",
              "  .colab-df-quickchart:hover {\n",
              "    background-color: #E2EBFA;\n",
              "    box-shadow: 0px 1px 2px rgba(60, 64, 67, 0.3), 0px 1px 3px 1px rgba(60, 64, 67, 0.15);\n",
              "    fill: #174EA6;\n",
              "  }\n",
              "\n",
              "  [theme=dark] .colab-df-quickchart {\n",
              "    background-color: #3B4455;\n",
              "    fill: #D2E3FC;\n",
              "  }\n",
              "\n",
              "  [theme=dark] .colab-df-quickchart:hover {\n",
              "    background-color: #434B5C;\n",
              "    box-shadow: 0px 1px 3px 1px rgba(0, 0, 0, 0.15);\n",
              "    filter: drop-shadow(0px 1px 2px rgba(0, 0, 0, 0.3));\n",
              "    fill: #FFFFFF;\n",
              "  }\n",
              "</style>\n",
              "\n",
              "    <script>\n",
              "      async function quickchart(key) {\n",
              "        const containerElement = document.querySelector('#' + key);\n",
              "        const charts = await google.colab.kernel.invokeFunction(\n",
              "            'suggestCharts', [key], {});\n",
              "      }\n",
              "    </script>\n",
              "\n",
              "      <script>\n",
              "\n",
              "function displayQuickchartButton(domScope) {\n",
              "  let quickchartButtonEl =\n",
              "    domScope.querySelector('#df-c5d22408-8158-4266-b726-c48eb7178bec button.colab-df-quickchart');\n",
              "  quickchartButtonEl.style.display =\n",
              "    google.colab.kernel.accessAllowed ? 'block' : 'none';\n",
              "}\n",
              "\n",
              "        displayQuickchartButton(document);\n",
              "      </script>\n",
              "      <style>\n",
              "    .colab-df-container {\n",
              "      display:flex;\n",
              "      flex-wrap:wrap;\n",
              "      gap: 12px;\n",
              "    }\n",
              "\n",
              "    .colab-df-convert {\n",
              "      background-color: #E8F0FE;\n",
              "      border: none;\n",
              "      border-radius: 50%;\n",
              "      cursor: pointer;\n",
              "      display: none;\n",
              "      fill: #1967D2;\n",
              "      height: 32px;\n",
              "      padding: 0 0 0 0;\n",
              "      width: 32px;\n",
              "    }\n",
              "\n",
              "    .colab-df-convert:hover {\n",
              "      background-color: #E2EBFA;\n",
              "      box-shadow: 0px 1px 2px rgba(60, 64, 67, 0.3), 0px 1px 3px 1px rgba(60, 64, 67, 0.15);\n",
              "      fill: #174EA6;\n",
              "    }\n",
              "\n",
              "    [theme=dark] .colab-df-convert {\n",
              "      background-color: #3B4455;\n",
              "      fill: #D2E3FC;\n",
              "    }\n",
              "\n",
              "    [theme=dark] .colab-df-convert:hover {\n",
              "      background-color: #434B5C;\n",
              "      box-shadow: 0px 1px 3px 1px rgba(0, 0, 0, 0.15);\n",
              "      filter: drop-shadow(0px 1px 2px rgba(0, 0, 0, 0.3));\n",
              "      fill: #FFFFFF;\n",
              "    }\n",
              "  </style>\n",
              "\n",
              "      <script>\n",
              "        const buttonEl =\n",
              "          document.querySelector('#df-0b0228c7-78c8-43d6-880c-786d9a9e6b6c button.colab-df-convert');\n",
              "        buttonEl.style.display =\n",
              "          google.colab.kernel.accessAllowed ? 'block' : 'none';\n",
              "\n",
              "        async function convertToInteractive(key) {\n",
              "          const element = document.querySelector('#df-0b0228c7-78c8-43d6-880c-786d9a9e6b6c');\n",
              "          const dataTable =\n",
              "            await google.colab.kernel.invokeFunction('convertToInteractive',\n",
              "                                                     [key], {});\n",
              "          if (!dataTable) return;\n",
              "\n",
              "          const docLinkHtml = 'Like what you see? Visit the ' +\n",
              "            '<a target=\"_blank\" href=https://colab.research.google.com/notebooks/data_table.ipynb>data table notebook</a>'\n",
              "            + ' to learn more about interactive tables.';\n",
              "          element.innerHTML = '';\n",
              "          dataTable['output_type'] = 'display_data';\n",
              "          await google.colab.output.renderOutput(dataTable, element);\n",
              "          const docLink = document.createElement('div');\n",
              "          docLink.innerHTML = docLinkHtml;\n",
              "          element.appendChild(docLink);\n",
              "        }\n",
              "      </script>\n",
              "    </div>\n",
              "  </div>\n"
            ]
          },
          "metadata": {},
          "execution_count": 97
        }
      ],
      "source": [
        "data.head()"
      ]
    },
    {
      "cell_type": "markdown",
      "metadata": {
        "id": "sSw0-aXycsbk"
      },
      "source": [
        "* 이외에도 총 284807개의 관측치들이 존재하였고, 각 변수별로 결측치 또한 존재하지 않았다."
      ]
    },
    {
      "cell_type": "code",
      "execution_count": 98,
      "metadata": {
        "colab": {
          "base_uri": "https://localhost:8080/"
        },
        "id": "W8_LOx0KP5EI",
        "outputId": "eacbe9b2-9562-44cd-9bff-7547404846e0"
      },
      "outputs": [
        {
          "output_type": "stream",
          "name": "stdout",
          "text": [
            "<class 'pandas.core.frame.DataFrame'>\n",
            "RangeIndex: 284807 entries, 0 to 284806\n",
            "Data columns (total 31 columns):\n",
            " #   Column  Non-Null Count   Dtype  \n",
            "---  ------  --------------   -----  \n",
            " 0   Time    284807 non-null  float64\n",
            " 1   V1      284807 non-null  float64\n",
            " 2   V2      284807 non-null  float64\n",
            " 3   V3      284807 non-null  float64\n",
            " 4   V4      284807 non-null  float64\n",
            " 5   V5      284807 non-null  float64\n",
            " 6   V6      284807 non-null  float64\n",
            " 7   V7      284807 non-null  float64\n",
            " 8   V8      284807 non-null  float64\n",
            " 9   V9      284807 non-null  float64\n",
            " 10  V10     284807 non-null  float64\n",
            " 11  V11     284807 non-null  float64\n",
            " 12  V12     284807 non-null  float64\n",
            " 13  V13     284807 non-null  float64\n",
            " 14  V14     284807 non-null  float64\n",
            " 15  V15     284807 non-null  float64\n",
            " 16  V16     284807 non-null  float64\n",
            " 17  V17     284807 non-null  float64\n",
            " 18  V18     284807 non-null  float64\n",
            " 19  V19     284807 non-null  float64\n",
            " 20  V20     284807 non-null  float64\n",
            " 21  V21     284807 non-null  float64\n",
            " 22  V22     284807 non-null  float64\n",
            " 23  V23     284807 non-null  float64\n",
            " 24  V24     284807 non-null  float64\n",
            " 25  V25     284807 non-null  float64\n",
            " 26  V26     284807 non-null  float64\n",
            " 27  V27     284807 non-null  float64\n",
            " 28  V28     284807 non-null  float64\n",
            " 29  Amount  284807 non-null  float64\n",
            " 30  Class   284807 non-null  int64  \n",
            "dtypes: float64(30), int64(1)\n",
            "memory usage: 67.4 MB\n"
          ]
        }
      ],
      "source": [
        "data.info()"
      ]
    },
    {
      "cell_type": "markdown",
      "metadata": {
        "id": "ufKH7G9vc7Kn"
      },
      "source": [
        "* 데이터의 기본적인 정보를 파악하기 위해 다음의 코드를 실행했으나, 대부분의 변수들이 주성분 분석을 통해 변환이 되었고, 따라서 숫자들이 무엇을 의미하는지 이해할 수가 없었다. 따라서 큰 의미는 없었다."
      ]
    },
    {
      "cell_type": "code",
      "execution_count": 99,
      "metadata": {
        "colab": {
          "base_uri": "https://localhost:8080/",
          "height": 393
        },
        "id": "5ogTg__x9VrU",
        "outputId": "167ce339-498c-499b-9d57-8ef07156fc02"
      },
      "outputs": [
        {
          "output_type": "execute_result",
          "data": {
            "text/plain": [
              "                Time            V1            V2            V3            V4  \\\n",
              "count  284807.000000  2.848070e+05  2.848070e+05  2.848070e+05  2.848070e+05   \n",
              "mean    94813.859575  1.168375e-15  3.416908e-16 -1.379537e-15  2.074095e-15   \n",
              "std     47488.145955  1.958696e+00  1.651309e+00  1.516255e+00  1.415869e+00   \n",
              "min         0.000000 -5.640751e+01 -7.271573e+01 -4.832559e+01 -5.683171e+00   \n",
              "25%     54201.500000 -9.203734e-01 -5.985499e-01 -8.903648e-01 -8.486401e-01   \n",
              "50%     84692.000000  1.810880e-02  6.548556e-02  1.798463e-01 -1.984653e-02   \n",
              "75%    139320.500000  1.315642e+00  8.037239e-01  1.027196e+00  7.433413e-01   \n",
              "max    172792.000000  2.454930e+00  2.205773e+01  9.382558e+00  1.687534e+01   \n",
              "\n",
              "                 V5            V6            V7            V8            V9  \\\n",
              "count  2.848070e+05  2.848070e+05  2.848070e+05  2.848070e+05  2.848070e+05   \n",
              "mean   9.604066e-16  1.487313e-15 -5.556467e-16  1.213481e-16 -2.406331e-15   \n",
              "std    1.380247e+00  1.332271e+00  1.237094e+00  1.194353e+00  1.098632e+00   \n",
              "min   -1.137433e+02 -2.616051e+01 -4.355724e+01 -7.321672e+01 -1.343407e+01   \n",
              "25%   -6.915971e-01 -7.682956e-01 -5.540759e-01 -2.086297e-01 -6.430976e-01   \n",
              "50%   -5.433583e-02 -2.741871e-01  4.010308e-02  2.235804e-02 -5.142873e-02   \n",
              "75%    6.119264e-01  3.985649e-01  5.704361e-01  3.273459e-01  5.971390e-01   \n",
              "max    3.480167e+01  7.330163e+01  1.205895e+02  2.000721e+01  1.559499e+01   \n",
              "\n",
              "       ...           V21           V22           V23           V24  \\\n",
              "count  ...  2.848070e+05  2.848070e+05  2.848070e+05  2.848070e+05   \n",
              "mean   ...  1.654067e-16 -3.568593e-16  2.578648e-16  4.473266e-15   \n",
              "std    ...  7.345240e-01  7.257016e-01  6.244603e-01  6.056471e-01   \n",
              "min    ... -3.483038e+01 -1.093314e+01 -4.480774e+01 -2.836627e+00   \n",
              "25%    ... -2.283949e-01 -5.423504e-01 -1.618463e-01 -3.545861e-01   \n",
              "50%    ... -2.945017e-02  6.781943e-03 -1.119293e-02  4.097606e-02   \n",
              "75%    ...  1.863772e-01  5.285536e-01  1.476421e-01  4.395266e-01   \n",
              "max    ...  2.720284e+01  1.050309e+01  2.252841e+01  4.584549e+00   \n",
              "\n",
              "                V25           V26           V27           V28         Amount  \\\n",
              "count  2.848070e+05  2.848070e+05  2.848070e+05  2.848070e+05  284807.000000   \n",
              "mean   5.340915e-16  1.683437e-15 -3.660091e-16 -1.227390e-16      88.349619   \n",
              "std    5.212781e-01  4.822270e-01  4.036325e-01  3.300833e-01     250.120109   \n",
              "min   -1.029540e+01 -2.604551e+00 -2.256568e+01 -1.543008e+01       0.000000   \n",
              "25%   -3.171451e-01 -3.269839e-01 -7.083953e-02 -5.295979e-02       5.600000   \n",
              "50%    1.659350e-02 -5.213911e-02  1.342146e-03  1.124383e-02      22.000000   \n",
              "75%    3.507156e-01  2.409522e-01  9.104512e-02  7.827995e-02      77.165000   \n",
              "max    7.519589e+00  3.517346e+00  3.161220e+01  3.384781e+01   25691.160000   \n",
              "\n",
              "               Class  \n",
              "count  284807.000000  \n",
              "mean        0.001727  \n",
              "std         0.041527  \n",
              "min         0.000000  \n",
              "25%         0.000000  \n",
              "50%         0.000000  \n",
              "75%         0.000000  \n",
              "max         1.000000  \n",
              "\n",
              "[8 rows x 31 columns]"
            ],
            "text/html": [
              "\n",
              "\n",
              "  <div id=\"df-dcaea83a-ea6a-45f0-a5e0-dd49e2514868\">\n",
              "    <div class=\"colab-df-container\">\n",
              "      <div>\n",
              "<style scoped>\n",
              "    .dataframe tbody tr th:only-of-type {\n",
              "        vertical-align: middle;\n",
              "    }\n",
              "\n",
              "    .dataframe tbody tr th {\n",
              "        vertical-align: top;\n",
              "    }\n",
              "\n",
              "    .dataframe thead th {\n",
              "        text-align: right;\n",
              "    }\n",
              "</style>\n",
              "<table border=\"1\" class=\"dataframe\">\n",
              "  <thead>\n",
              "    <tr style=\"text-align: right;\">\n",
              "      <th></th>\n",
              "      <th>Time</th>\n",
              "      <th>V1</th>\n",
              "      <th>V2</th>\n",
              "      <th>V3</th>\n",
              "      <th>V4</th>\n",
              "      <th>V5</th>\n",
              "      <th>V6</th>\n",
              "      <th>V7</th>\n",
              "      <th>V8</th>\n",
              "      <th>V9</th>\n",
              "      <th>...</th>\n",
              "      <th>V21</th>\n",
              "      <th>V22</th>\n",
              "      <th>V23</th>\n",
              "      <th>V24</th>\n",
              "      <th>V25</th>\n",
              "      <th>V26</th>\n",
              "      <th>V27</th>\n",
              "      <th>V28</th>\n",
              "      <th>Amount</th>\n",
              "      <th>Class</th>\n",
              "    </tr>\n",
              "  </thead>\n",
              "  <tbody>\n",
              "    <tr>\n",
              "      <th>count</th>\n",
              "      <td>284807.000000</td>\n",
              "      <td>2.848070e+05</td>\n",
              "      <td>2.848070e+05</td>\n",
              "      <td>2.848070e+05</td>\n",
              "      <td>2.848070e+05</td>\n",
              "      <td>2.848070e+05</td>\n",
              "      <td>2.848070e+05</td>\n",
              "      <td>2.848070e+05</td>\n",
              "      <td>2.848070e+05</td>\n",
              "      <td>2.848070e+05</td>\n",
              "      <td>...</td>\n",
              "      <td>2.848070e+05</td>\n",
              "      <td>2.848070e+05</td>\n",
              "      <td>2.848070e+05</td>\n",
              "      <td>2.848070e+05</td>\n",
              "      <td>2.848070e+05</td>\n",
              "      <td>2.848070e+05</td>\n",
              "      <td>2.848070e+05</td>\n",
              "      <td>2.848070e+05</td>\n",
              "      <td>284807.000000</td>\n",
              "      <td>284807.000000</td>\n",
              "    </tr>\n",
              "    <tr>\n",
              "      <th>mean</th>\n",
              "      <td>94813.859575</td>\n",
              "      <td>1.168375e-15</td>\n",
              "      <td>3.416908e-16</td>\n",
              "      <td>-1.379537e-15</td>\n",
              "      <td>2.074095e-15</td>\n",
              "      <td>9.604066e-16</td>\n",
              "      <td>1.487313e-15</td>\n",
              "      <td>-5.556467e-16</td>\n",
              "      <td>1.213481e-16</td>\n",
              "      <td>-2.406331e-15</td>\n",
              "      <td>...</td>\n",
              "      <td>1.654067e-16</td>\n",
              "      <td>-3.568593e-16</td>\n",
              "      <td>2.578648e-16</td>\n",
              "      <td>4.473266e-15</td>\n",
              "      <td>5.340915e-16</td>\n",
              "      <td>1.683437e-15</td>\n",
              "      <td>-3.660091e-16</td>\n",
              "      <td>-1.227390e-16</td>\n",
              "      <td>88.349619</td>\n",
              "      <td>0.001727</td>\n",
              "    </tr>\n",
              "    <tr>\n",
              "      <th>std</th>\n",
              "      <td>47488.145955</td>\n",
              "      <td>1.958696e+00</td>\n",
              "      <td>1.651309e+00</td>\n",
              "      <td>1.516255e+00</td>\n",
              "      <td>1.415869e+00</td>\n",
              "      <td>1.380247e+00</td>\n",
              "      <td>1.332271e+00</td>\n",
              "      <td>1.237094e+00</td>\n",
              "      <td>1.194353e+00</td>\n",
              "      <td>1.098632e+00</td>\n",
              "      <td>...</td>\n",
              "      <td>7.345240e-01</td>\n",
              "      <td>7.257016e-01</td>\n",
              "      <td>6.244603e-01</td>\n",
              "      <td>6.056471e-01</td>\n",
              "      <td>5.212781e-01</td>\n",
              "      <td>4.822270e-01</td>\n",
              "      <td>4.036325e-01</td>\n",
              "      <td>3.300833e-01</td>\n",
              "      <td>250.120109</td>\n",
              "      <td>0.041527</td>\n",
              "    </tr>\n",
              "    <tr>\n",
              "      <th>min</th>\n",
              "      <td>0.000000</td>\n",
              "      <td>-5.640751e+01</td>\n",
              "      <td>-7.271573e+01</td>\n",
              "      <td>-4.832559e+01</td>\n",
              "      <td>-5.683171e+00</td>\n",
              "      <td>-1.137433e+02</td>\n",
              "      <td>-2.616051e+01</td>\n",
              "      <td>-4.355724e+01</td>\n",
              "      <td>-7.321672e+01</td>\n",
              "      <td>-1.343407e+01</td>\n",
              "      <td>...</td>\n",
              "      <td>-3.483038e+01</td>\n",
              "      <td>-1.093314e+01</td>\n",
              "      <td>-4.480774e+01</td>\n",
              "      <td>-2.836627e+00</td>\n",
              "      <td>-1.029540e+01</td>\n",
              "      <td>-2.604551e+00</td>\n",
              "      <td>-2.256568e+01</td>\n",
              "      <td>-1.543008e+01</td>\n",
              "      <td>0.000000</td>\n",
              "      <td>0.000000</td>\n",
              "    </tr>\n",
              "    <tr>\n",
              "      <th>25%</th>\n",
              "      <td>54201.500000</td>\n",
              "      <td>-9.203734e-01</td>\n",
              "      <td>-5.985499e-01</td>\n",
              "      <td>-8.903648e-01</td>\n",
              "      <td>-8.486401e-01</td>\n",
              "      <td>-6.915971e-01</td>\n",
              "      <td>-7.682956e-01</td>\n",
              "      <td>-5.540759e-01</td>\n",
              "      <td>-2.086297e-01</td>\n",
              "      <td>-6.430976e-01</td>\n",
              "      <td>...</td>\n",
              "      <td>-2.283949e-01</td>\n",
              "      <td>-5.423504e-01</td>\n",
              "      <td>-1.618463e-01</td>\n",
              "      <td>-3.545861e-01</td>\n",
              "      <td>-3.171451e-01</td>\n",
              "      <td>-3.269839e-01</td>\n",
              "      <td>-7.083953e-02</td>\n",
              "      <td>-5.295979e-02</td>\n",
              "      <td>5.600000</td>\n",
              "      <td>0.000000</td>\n",
              "    </tr>\n",
              "    <tr>\n",
              "      <th>50%</th>\n",
              "      <td>84692.000000</td>\n",
              "      <td>1.810880e-02</td>\n",
              "      <td>6.548556e-02</td>\n",
              "      <td>1.798463e-01</td>\n",
              "      <td>-1.984653e-02</td>\n",
              "      <td>-5.433583e-02</td>\n",
              "      <td>-2.741871e-01</td>\n",
              "      <td>4.010308e-02</td>\n",
              "      <td>2.235804e-02</td>\n",
              "      <td>-5.142873e-02</td>\n",
              "      <td>...</td>\n",
              "      <td>-2.945017e-02</td>\n",
              "      <td>6.781943e-03</td>\n",
              "      <td>-1.119293e-02</td>\n",
              "      <td>4.097606e-02</td>\n",
              "      <td>1.659350e-02</td>\n",
              "      <td>-5.213911e-02</td>\n",
              "      <td>1.342146e-03</td>\n",
              "      <td>1.124383e-02</td>\n",
              "      <td>22.000000</td>\n",
              "      <td>0.000000</td>\n",
              "    </tr>\n",
              "    <tr>\n",
              "      <th>75%</th>\n",
              "      <td>139320.500000</td>\n",
              "      <td>1.315642e+00</td>\n",
              "      <td>8.037239e-01</td>\n",
              "      <td>1.027196e+00</td>\n",
              "      <td>7.433413e-01</td>\n",
              "      <td>6.119264e-01</td>\n",
              "      <td>3.985649e-01</td>\n",
              "      <td>5.704361e-01</td>\n",
              "      <td>3.273459e-01</td>\n",
              "      <td>5.971390e-01</td>\n",
              "      <td>...</td>\n",
              "      <td>1.863772e-01</td>\n",
              "      <td>5.285536e-01</td>\n",
              "      <td>1.476421e-01</td>\n",
              "      <td>4.395266e-01</td>\n",
              "      <td>3.507156e-01</td>\n",
              "      <td>2.409522e-01</td>\n",
              "      <td>9.104512e-02</td>\n",
              "      <td>7.827995e-02</td>\n",
              "      <td>77.165000</td>\n",
              "      <td>0.000000</td>\n",
              "    </tr>\n",
              "    <tr>\n",
              "      <th>max</th>\n",
              "      <td>172792.000000</td>\n",
              "      <td>2.454930e+00</td>\n",
              "      <td>2.205773e+01</td>\n",
              "      <td>9.382558e+00</td>\n",
              "      <td>1.687534e+01</td>\n",
              "      <td>3.480167e+01</td>\n",
              "      <td>7.330163e+01</td>\n",
              "      <td>1.205895e+02</td>\n",
              "      <td>2.000721e+01</td>\n",
              "      <td>1.559499e+01</td>\n",
              "      <td>...</td>\n",
              "      <td>2.720284e+01</td>\n",
              "      <td>1.050309e+01</td>\n",
              "      <td>2.252841e+01</td>\n",
              "      <td>4.584549e+00</td>\n",
              "      <td>7.519589e+00</td>\n",
              "      <td>3.517346e+00</td>\n",
              "      <td>3.161220e+01</td>\n",
              "      <td>3.384781e+01</td>\n",
              "      <td>25691.160000</td>\n",
              "      <td>1.000000</td>\n",
              "    </tr>\n",
              "  </tbody>\n",
              "</table>\n",
              "<p>8 rows × 31 columns</p>\n",
              "</div>\n",
              "      <button class=\"colab-df-convert\" onclick=\"convertToInteractive('df-dcaea83a-ea6a-45f0-a5e0-dd49e2514868')\"\n",
              "              title=\"Convert this dataframe to an interactive table.\"\n",
              "              style=\"display:none;\">\n",
              "\n",
              "  <svg xmlns=\"http://www.w3.org/2000/svg\" height=\"24px\"viewBox=\"0 0 24 24\"\n",
              "       width=\"24px\">\n",
              "    <path d=\"M0 0h24v24H0V0z\" fill=\"none\"/>\n",
              "    <path d=\"M18.56 5.44l.94 2.06.94-2.06 2.06-.94-2.06-.94-.94-2.06-.94 2.06-2.06.94zm-11 1L8.5 8.5l.94-2.06 2.06-.94-2.06-.94L8.5 2.5l-.94 2.06-2.06.94zm10 10l.94 2.06.94-2.06 2.06-.94-2.06-.94-.94-2.06-.94 2.06-2.06.94z\"/><path d=\"M17.41 7.96l-1.37-1.37c-.4-.4-.92-.59-1.43-.59-.52 0-1.04.2-1.43.59L10.3 9.45l-7.72 7.72c-.78.78-.78 2.05 0 2.83L4 21.41c.39.39.9.59 1.41.59.51 0 1.02-.2 1.41-.59l7.78-7.78 2.81-2.81c.8-.78.8-2.07 0-2.86zM5.41 20L4 18.59l7.72-7.72 1.47 1.35L5.41 20z\"/>\n",
              "  </svg>\n",
              "      </button>\n",
              "\n",
              "\n",
              "\n",
              "    <div id=\"df-0ee874e8-a026-4d30-96ae-e53a2e56ccab\">\n",
              "      <button class=\"colab-df-quickchart\" onclick=\"quickchart('df-0ee874e8-a026-4d30-96ae-e53a2e56ccab')\"\n",
              "              title=\"Suggest charts.\"\n",
              "              style=\"display:none;\">\n",
              "\n",
              "<svg xmlns=\"http://www.w3.org/2000/svg\" height=\"24px\"viewBox=\"0 0 24 24\"\n",
              "     width=\"24px\">\n",
              "    <g>\n",
              "        <path d=\"M19 3H5c-1.1 0-2 .9-2 2v14c0 1.1.9 2 2 2h14c1.1 0 2-.9 2-2V5c0-1.1-.9-2-2-2zM9 17H7v-7h2v7zm4 0h-2V7h2v10zm4 0h-2v-4h2v4z\"/>\n",
              "    </g>\n",
              "</svg>\n",
              "      </button>\n",
              "    </div>\n",
              "\n",
              "<style>\n",
              "  .colab-df-quickchart {\n",
              "    background-color: #E8F0FE;\n",
              "    border: none;\n",
              "    border-radius: 50%;\n",
              "    cursor: pointer;\n",
              "    display: none;\n",
              "    fill: #1967D2;\n",
              "    height: 32px;\n",
              "    padding: 0 0 0 0;\n",
              "    width: 32px;\n",
              "  }\n",
              "\n",
              "  .colab-df-quickchart:hover {\n",
              "    background-color: #E2EBFA;\n",
              "    box-shadow: 0px 1px 2px rgba(60, 64, 67, 0.3), 0px 1px 3px 1px rgba(60, 64, 67, 0.15);\n",
              "    fill: #174EA6;\n",
              "  }\n",
              "\n",
              "  [theme=dark] .colab-df-quickchart {\n",
              "    background-color: #3B4455;\n",
              "    fill: #D2E3FC;\n",
              "  }\n",
              "\n",
              "  [theme=dark] .colab-df-quickchart:hover {\n",
              "    background-color: #434B5C;\n",
              "    box-shadow: 0px 1px 3px 1px rgba(0, 0, 0, 0.15);\n",
              "    filter: drop-shadow(0px 1px 2px rgba(0, 0, 0, 0.3));\n",
              "    fill: #FFFFFF;\n",
              "  }\n",
              "</style>\n",
              "\n",
              "    <script>\n",
              "      async function quickchart(key) {\n",
              "        const containerElement = document.querySelector('#' + key);\n",
              "        const charts = await google.colab.kernel.invokeFunction(\n",
              "            'suggestCharts', [key], {});\n",
              "      }\n",
              "    </script>\n",
              "\n",
              "      <script>\n",
              "\n",
              "function displayQuickchartButton(domScope) {\n",
              "  let quickchartButtonEl =\n",
              "    domScope.querySelector('#df-0ee874e8-a026-4d30-96ae-e53a2e56ccab button.colab-df-quickchart');\n",
              "  quickchartButtonEl.style.display =\n",
              "    google.colab.kernel.accessAllowed ? 'block' : 'none';\n",
              "}\n",
              "\n",
              "        displayQuickchartButton(document);\n",
              "      </script>\n",
              "      <style>\n",
              "    .colab-df-container {\n",
              "      display:flex;\n",
              "      flex-wrap:wrap;\n",
              "      gap: 12px;\n",
              "    }\n",
              "\n",
              "    .colab-df-convert {\n",
              "      background-color: #E8F0FE;\n",
              "      border: none;\n",
              "      border-radius: 50%;\n",
              "      cursor: pointer;\n",
              "      display: none;\n",
              "      fill: #1967D2;\n",
              "      height: 32px;\n",
              "      padding: 0 0 0 0;\n",
              "      width: 32px;\n",
              "    }\n",
              "\n",
              "    .colab-df-convert:hover {\n",
              "      background-color: #E2EBFA;\n",
              "      box-shadow: 0px 1px 2px rgba(60, 64, 67, 0.3), 0px 1px 3px 1px rgba(60, 64, 67, 0.15);\n",
              "      fill: #174EA6;\n",
              "    }\n",
              "\n",
              "    [theme=dark] .colab-df-convert {\n",
              "      background-color: #3B4455;\n",
              "      fill: #D2E3FC;\n",
              "    }\n",
              "\n",
              "    [theme=dark] .colab-df-convert:hover {\n",
              "      background-color: #434B5C;\n",
              "      box-shadow: 0px 1px 3px 1px rgba(0, 0, 0, 0.15);\n",
              "      filter: drop-shadow(0px 1px 2px rgba(0, 0, 0, 0.3));\n",
              "      fill: #FFFFFF;\n",
              "    }\n",
              "  </style>\n",
              "\n",
              "      <script>\n",
              "        const buttonEl =\n",
              "          document.querySelector('#df-dcaea83a-ea6a-45f0-a5e0-dd49e2514868 button.colab-df-convert');\n",
              "        buttonEl.style.display =\n",
              "          google.colab.kernel.accessAllowed ? 'block' : 'none';\n",
              "\n",
              "        async function convertToInteractive(key) {\n",
              "          const element = document.querySelector('#df-dcaea83a-ea6a-45f0-a5e0-dd49e2514868');\n",
              "          const dataTable =\n",
              "            await google.colab.kernel.invokeFunction('convertToInteractive',\n",
              "                                                     [key], {});\n",
              "          if (!dataTable) return;\n",
              "\n",
              "          const docLinkHtml = 'Like what you see? Visit the ' +\n",
              "            '<a target=\"_blank\" href=https://colab.research.google.com/notebooks/data_table.ipynb>data table notebook</a>'\n",
              "            + ' to learn more about interactive tables.';\n",
              "          element.innerHTML = '';\n",
              "          dataTable['output_type'] = 'display_data';\n",
              "          await google.colab.output.renderOutput(dataTable, element);\n",
              "          const docLink = document.createElement('div');\n",
              "          docLink.innerHTML = docLinkHtml;\n",
              "          element.appendChild(docLink);\n",
              "        }\n",
              "      </script>\n",
              "    </div>\n",
              "  </div>\n"
            ]
          },
          "metadata": {},
          "execution_count": 99
        }
      ],
      "source": [
        "data.describe()"
      ]
    },
    {
      "cell_type": "code",
      "execution_count": 100,
      "metadata": {
        "colab": {
          "base_uri": "https://localhost:8080/"
        },
        "id": "UXKknJkPP8HL",
        "outputId": "2228861d-0b7a-4d2e-bffe-5ffb716067be"
      },
      "outputs": [
        {
          "output_type": "execute_result",
          "data": {
            "text/plain": [
              "Time      0\n",
              "V1        0\n",
              "V2        0\n",
              "V3        0\n",
              "V4        0\n",
              "V5        0\n",
              "V6        0\n",
              "V7        0\n",
              "V8        0\n",
              "V9        0\n",
              "V10       0\n",
              "V11       0\n",
              "V12       0\n",
              "V13       0\n",
              "V14       0\n",
              "V15       0\n",
              "V16       0\n",
              "V17       0\n",
              "V18       0\n",
              "V19       0\n",
              "V20       0\n",
              "V21       0\n",
              "V22       0\n",
              "V23       0\n",
              "V24       0\n",
              "V25       0\n",
              "V26       0\n",
              "V27       0\n",
              "V28       0\n",
              "Amount    0\n",
              "Class     0\n",
              "dtype: int64"
            ]
          },
          "metadata": {},
          "execution_count": 100
        }
      ],
      "source": [
        "data.isnull().sum()"
      ]
    },
    {
      "cell_type": "markdown",
      "metadata": {
        "id": "qmknvD4nP_2v"
      },
      "source": [
        "* 앞서 살펴보았던 것처럼 데이터에 결측치는 존재하지 않았다. 이 데이터를 그냥 사용해도 좋을 것 같다."
      ]
    },
    {
      "cell_type": "code",
      "execution_count": 101,
      "metadata": {
        "colab": {
          "base_uri": "https://localhost:8080/",
          "height": 1000
        },
        "id": "1LD18z5sRwqq",
        "outputId": "91468738-2286-4569-82f5-79dda4961b9d"
      },
      "outputs": [
        {
          "output_type": "display_data",
          "data": {
            "text/plain": [
              "<Figure size 2500x1500 with 2 Axes>"
            ],
            "image/png": "[encoded data removed]"
          },
          "metadata": {}
        }
      ],
      "source": [
        "import seaborn as sns\n",
        "import matplotlib.pyplot as plt\n",
        "f, ax=plt.subplots(figsize=(25,15))\n",
        "sns.heatmap(data.corr(), annot=True, linewidths=0.3, fmt='0.2f', ax=ax, cmap='viridis')\n",
        "plt.show()"
      ]
    },
    {
      "cell_type": "markdown",
      "metadata": {
        "id": "-C_fRo_gSNrE"
      },
      "source": [
        "* 주성분 분석의 변수들이니 변수들 사이에 상관관계가 높은 경우는 없었다. 따라서 회귀식에서 다중공선성의 문제 또한 걱정하지 않아도 될 듯 하다."
      ]
    },
    {
      "cell_type": "markdown",
      "metadata": {
        "id": "0oetemsgeVio"
      },
      "source": [
        "* 다음은 가볍게 이상거래와 정상거래의 빈도수를 비교하기 위한 시각화 과정이다."
      ]
    },
    {
      "cell_type": "code",
      "execution_count": 102,
      "metadata": {
        "id": "z9QkcAUGCTqQ"
      },
      "outputs": [],
      "source": [
        "num_cases=data['Class'].value_counts()"
      ]
    },
    {
      "cell_type": "code",
      "execution_count": 103,
      "metadata": {
        "id": "si_9clCwHlUz"
      },
      "outputs": [],
      "source": [
        "labels=num_cases.index"
      ]
    },
    {
      "cell_type": "code",
      "execution_count": 104,
      "metadata": {
        "colab": {
          "base_uri": "https://localhost:8080/"
        },
        "id": "AjDxhQeXJPE2",
        "outputId": "da5fafd5-4a49-49c6-e8b5-1a7870028b26"
      },
      "outputs": [
        {
          "output_type": "execute_result",
          "data": {
            "text/plain": [
              "Int64Index([0, 1], dtype='int64')"
            ]
          },
          "metadata": {},
          "execution_count": 104
        }
      ],
      "source": [
        "num_cases.index"
      ]
    },
    {
      "cell_type": "code",
      "execution_count": 105,
      "metadata": {
        "colab": {
          "base_uri": "https://localhost:8080/"
        },
        "id": "jRZEbsVzuIW7",
        "outputId": "510b39b6-c9fc-4a4f-a6e8-adc5745d6f1c"
      },
      "outputs": [
        {
          "output_type": "execute_result",
          "data": {
            "text/plain": [
              "0    284315\n",
              "1       492\n",
              "Name: Class, dtype: int64"
            ]
          },
          "metadata": {},
          "execution_count": 105
        }
      ],
      "source": [
        "num_cases"
      ]
    },
    {
      "cell_type": "code",
      "execution_count": 106,
      "metadata": {
        "colab": {
          "base_uri": "https://localhost:8080/",
          "height": 472
        },
        "id": "0RQIT4Nw_9uj",
        "outputId": "c4af804e-2c0c-41a9-b04a-e94f9d585bf0"
      },
      "outputs": [
        {
          "output_type": "display_data",
          "data": {
            "text/plain": [
              "<Figure size 640x480 with 1 Axes>"
            ],
            "image/png": "[encoded data removed]"
          },
          "metadata": {}
        }
      ],
      "source": [
        "import numpy as np\n",
        "import matplotlib.pyplot as plt\n",
        "import matplotlib.pyplot as plt\n",
        "\n",
        "num_cases = data['Class'].value_counts()\n",
        "labels = ['Normal', 'Fraud']\n",
        "\n",
        "plt.bar(labels, num_cases)\n",
        "plt.xlabel('Type of transaction')\n",
        "plt.ylabel('Number of cases')\n",
        "plt.title('Comparison the number of cases between the Normal and Fraud transaction')\n",
        "plt.show()"
      ]
    },
    {
      "cell_type": "markdown",
      "metadata": {
        "id": "I3yMSjg5Mpee"
      },
      "source": [
        "* 시각화를 해보니, 우선 정상 거래와 이상 거래의 데이터의 수에서 현저한 차이를 보이며 데이터 불균형의 문제가 있는 것을 확인할 수 있다.\n"
      ]
    },
    {
      "cell_type": "markdown",
      "metadata": {
        "id": "I2gNZnoueg6G"
      },
      "source": [
        "* 추가적으로 변수 time은 모델링에 상관없는 변수이므로 삭제를 한 데이터를 다시 data로 저장해준다."
      ]
    },
    {
      "cell_type": "code",
      "execution_count": 107,
      "metadata": {
        "colab": {
          "base_uri": "https://localhost:8080/",
          "height": 487
        },
        "id": "3Pbk3akIB6GS",
        "outputId": "def5f074-187a-4463-e28c-edcffb110b3a"
      },
      "outputs": [
        {
          "output_type": "execute_result",
          "data": {
            "text/plain": [
              "               V1         V2        V3        V4        V5        V6  \\\n",
              "0       -1.359807  -0.072781  2.536347  1.378155 -0.338321  0.462388   \n",
              "1        1.191857   0.266151  0.166480  0.448154  0.060018 -0.082361   \n",
              "2       -1.358354  -1.340163  1.773209  0.379780 -0.503198  1.800499   \n",
              "3       -0.966272  -0.185226  1.792993 -0.863291 -0.010309  1.247203   \n",
              "4       -1.158233   0.877737  1.548718  0.403034 -0.407193  0.095921   \n",
              "...           ...        ...       ...       ...       ...       ...   \n",
              "284802 -11.881118  10.071785 -9.834783 -2.066656 -5.364473 -2.606837   \n",
              "284803  -0.732789  -0.055080  2.035030 -0.738589  0.868229  1.058415   \n",
              "284804   1.919565  -0.301254 -3.249640 -0.557828  2.630515  3.031260   \n",
              "284805  -0.240440   0.530483  0.702510  0.689799 -0.377961  0.623708   \n",
              "284806  -0.533413  -0.189733  0.703337 -0.506271 -0.012546 -0.649617   \n",
              "\n",
              "              V7        V8        V9       V10  ...       V21       V22  \\\n",
              "0       0.239599  0.098698  0.363787  0.090794  ... -0.018307  0.277838   \n",
              "1      -0.078803  0.085102 -0.255425 -0.166974  ... -0.225775 -0.638672   \n",
              "2       0.791461  0.247676 -1.514654  0.207643  ...  0.247998  0.771679   \n",
              "3       0.237609  0.377436 -1.387024 -0.054952  ... -0.108300  0.005274   \n",
              "4       0.592941 -0.270533  0.817739  0.753074  ... -0.009431  0.798278   \n",
              "...          ...       ...       ...       ...  ...       ...       ...   \n",
              "284802 -4.918215  7.305334  1.914428  4.356170  ...  0.213454  0.111864   \n",
              "284803  0.024330  0.294869  0.584800 -0.975926  ...  0.214205  0.924384   \n",
              "284804 -0.296827  0.708417  0.432454 -0.484782  ...  0.232045  0.578229   \n",
              "284805 -0.686180  0.679145  0.392087 -0.399126  ...  0.265245  0.800049   \n",
              "284806  1.577006 -0.414650  0.486180 -0.915427  ...  0.261057  0.643078   \n",
              "\n",
              "             V23       V24       V25       V26       V27       V28  Amount  \\\n",
              "0      -0.110474  0.066928  0.128539 -0.189115  0.133558 -0.021053  149.62   \n",
              "1       0.101288 -0.339846  0.167170  0.125895 -0.008983  0.014724    2.69   \n",
              "2       0.909412 -0.689281 -0.327642 -0.139097 -0.055353 -0.059752  378.66   \n",
              "3      -0.190321 -1.175575  0.647376 -0.221929  0.062723  0.061458  123.50   \n",
              "4      -0.137458  0.141267 -0.206010  0.502292  0.219422  0.215153   69.99   \n",
              "...          ...       ...       ...       ...       ...       ...     ...   \n",
              "284802  1.014480 -0.509348  1.436807  0.250034  0.943651  0.823731    0.77   \n",
              "284803  0.012463 -1.016226 -0.606624 -0.395255  0.068472 -0.053527   24.79   \n",
              "284804 -0.037501  0.640134  0.265745 -0.087371  0.004455 -0.026561   67.88   \n",
              "284805 -0.163298  0.123205 -0.569159  0.546668  0.108821  0.104533   10.00   \n",
              "284806  0.376777  0.008797 -0.473649 -0.818267 -0.002415  0.013649  217.00   \n",
              "\n",
              "        Class  \n",
              "0           0  \n",
              "1           0  \n",
              "2           0  \n",
              "3           0  \n",
              "4           0  \n",
              "...       ...  \n",
              "284802      0  \n",
              "284803      0  \n",
              "284804      0  \n",
              "284805      0  \n",
              "284806      0  \n",
              "\n",
              "[284807 rows x 30 columns]"
            ],
            "text/html": [
              "\n",
              "\n",
              "  <div id=\"df-cf658d29-a790-4ac6-bbee-77552332de1c\">\n",
              "    <div class=\"colab-df-container\">\n",
              "      <div>\n",
              "<style scoped>\n",
              "    .dataframe tbody tr th:only-of-type {\n",
              "        vertical-align: middle;\n",
              "    }\n",
              "\n",
              "    .dataframe tbody tr th {\n",
              "        vertical-align: top;\n",
              "    }\n",
              "\n",
              "    .dataframe thead th {\n",
              "        text-align: right;\n",
              "    }\n",
              "</style>\n",
              "<table border=\"1\" class=\"dataframe\">\n",
              "  <thead>\n",
              "    <tr style=\"text-align: right;\">\n",
              "      <th></th>\n",
              "      <th>V1</th>\n",
              "      <th>V2</th>\n",
              "      <th>V3</th>\n",
              "      <th>V4</th>\n",
              "      <th>V5</th>\n",
              "      <th>V6</th>\n",
              "      <th>V7</th>\n",
              "      <th>V8</th>\n",
              "      <th>V9</th>\n",
              "      <th>V10</th>\n",
              "      <th>...</th>\n",
              "      <th>V21</th>\n",
              "      <th>V22</th>\n",
              "      <th>V23</th>\n",
              "      <th>V24</th>\n",
              "      <th>V25</th>\n",
              "      <th>V26</th>\n",
              "      <th>V27</th>\n",
              "      <th>V28</th>\n",
              "      <th>Amount</th>\n",
              "      <th>Class</th>\n",
              "    </tr>\n",
              "  </thead>\n",
              "  <tbody>\n",
              "    <tr>\n",
              "      <th>0</th>\n",
              "      <td>-1.359807</td>\n",
              "      <td>-0.072781</td>\n",
              "      <td>2.536347</td>\n",
              "      <td>1.378155</td>\n",
              "      <td>-0.338321</td>\n",
              "      <td>0.462388</td>\n",
              "      <td>0.239599</td>\n",
              "      <td>0.098698</td>\n",
              "      <td>0.363787</td>\n",
              "      <td>0.090794</td>\n",
              "      <td>...</td>\n",
              "      <td>-0.018307</td>\n",
              "      <td>0.277838</td>\n",
              "      <td>-0.110474</td>\n",
              "      <td>0.066928</td>\n",
              "      <td>0.128539</td>\n",
              "      <td>-0.189115</td>\n",
              "      <td>0.133558</td>\n",
              "      <td>-0.021053</td>\n",
              "      <td>149.62</td>\n",
              "      <td>0</td>\n",
              "    </tr>\n",
              "    <tr>\n",
              "      <th>1</th>\n",
              "      <td>1.191857</td>\n",
              "      <td>0.266151</td>\n",
              "      <td>0.166480</td>\n",
              "      <td>0.448154</td>\n",
              "      <td>0.060018</td>\n",
              "      <td>-0.082361</td>\n",
              "      <td>-0.078803</td>\n",
              "      <td>0.085102</td>\n",
              "      <td>-0.255425</td>\n",
              "      <td>-0.166974</td>\n",
              "      <td>...</td>\n",
              "      <td>-0.225775</td>\n",
              "      <td>-0.638672</td>\n",
              "      <td>0.101288</td>\n",
              "      <td>-0.339846</td>\n",
              "      <td>0.167170</td>\n",
              "      <td>0.125895</td>\n",
              "      <td>-0.008983</td>\n",
              "      <td>0.014724</td>\n",
              "      <td>2.69</td>\n",
              "      <td>0</td>\n",
              "    </tr>\n",
              "    <tr>\n",
              "      <th>2</th>\n",
              "      <td>-1.358354</td>\n",
              "      <td>-1.340163</td>\n",
              "      <td>1.773209</td>\n",
              "      <td>0.379780</td>\n",
              "      <td>-0.503198</td>\n",
              "      <td>1.800499</td>\n",
              "      <td>0.791461</td>\n",
              "      <td>0.247676</td>\n",
              "      <td>-1.514654</td>\n",
              "      <td>0.207643</td>\n",
              "      <td>...</td>\n",
              "      <td>0.247998</td>\n",
              "      <td>0.771679</td>\n",
              "      <td>0.909412</td>\n",
              "      <td>-0.689281</td>\n",
              "      <td>-0.327642</td>\n",
              "      <td>-0.139097</td>\n",
              "      <td>-0.055353</td>\n",
              "      <td>-0.059752</td>\n",
              "      <td>378.66</td>\n",
              "      <td>0</td>\n",
              "    </tr>\n",
              "    <tr>\n",
              "      <th>3</th>\n",
              "      <td>-0.966272</td>\n",
              "      <td>-0.185226</td>\n",
              "      <td>1.792993</td>\n",
              "      <td>-0.863291</td>\n",
              "      <td>-0.010309</td>\n",
              "      <td>1.247203</td>\n",
              "      <td>0.237609</td>\n",
              "      <td>0.377436</td>\n",
              "      <td>-1.387024</td>\n",
              "      <td>-0.054952</td>\n",
              "      <td>...</td>\n",
              "      <td>-0.108300</td>\n",
              "      <td>0.005274</td>\n",
              "      <td>-0.190321</td>\n",
              "      <td>-1.175575</td>\n",
              "      <td>0.647376</td>\n",
              "      <td>-0.221929</td>\n",
              "      <td>0.062723</td>\n",
              "      <td>0.061458</td>\n",
              "      <td>123.50</td>\n",
              "      <td>0</td>\n",
              "    </tr>\n",
              "    <tr>\n",
              "      <th>4</th>\n",
              "      <td>-1.158233</td>\n",
              "      <td>0.877737</td>\n",
              "      <td>1.548718</td>\n",
              "      <td>0.403034</td>\n",
              "      <td>-0.407193</td>\n",
              "      <td>0.095921</td>\n",
              "      <td>0.592941</td>\n",
              "      <td>-0.270533</td>\n",
              "      <td>0.817739</td>\n",
              "      <td>0.753074</td>\n",
              "      <td>...</td>\n",
              "      <td>-0.009431</td>\n",
              "      <td>0.798278</td>\n",
              "      <td>-0.137458</td>\n",
              "      <td>0.141267</td>\n",
              "      <td>-0.206010</td>\n",
              "      <td>0.502292</td>\n",
              "      <td>0.219422</td>\n",
              "      <td>0.215153</td>\n",
              "      <td>69.99</td>\n",
              "      <td>0</td>\n",
              "    </tr>\n",
              "    <tr>\n",
              "      <th>...</th>\n",
              "      <td>...</td>\n",
              "      <td>...</td>\n",
              "      <td>...</td>\n",
              "      <td>...</td>\n",
              "      <td>...</td>\n",
              "      <td>...</td>\n",
              "      <td>...</td>\n",
              "      <td>...</td>\n",
              "      <td>...</td>\n",
              "      <td>...</td>\n",
              "      <td>...</td>\n",
              "      <td>...</td>\n",
              "      <td>...</td>\n",
              "      <td>...</td>\n",
              "      <td>...</td>\n",
              "      <td>...</td>\n",
              "      <td>...</td>\n",
              "      <td>...</td>\n",
              "      <td>...</td>\n",
              "      <td>...</td>\n",
              "      <td>...</td>\n",
              "    </tr>\n",
              "    <tr>\n",
              "      <th>284802</th>\n",
              "      <td>-11.881118</td>\n",
              "      <td>10.071785</td>\n",
              "      <td>-9.834783</td>\n",
              "      <td>-2.066656</td>\n",
              "      <td>-5.364473</td>\n",
              "      <td>-2.606837</td>\n",
              "      <td>-4.918215</td>\n",
              "      <td>7.305334</td>\n",
              "      <td>1.914428</td>\n",
              "      <td>4.356170</td>\n",
              "      <td>...</td>\n",
              "      <td>0.213454</td>\n",
              "      <td>0.111864</td>\n",
              "      <td>1.014480</td>\n",
              "      <td>-0.509348</td>\n",
              "      <td>1.436807</td>\n",
              "      <td>0.250034</td>\n",
              "      <td>0.943651</td>\n",
              "      <td>0.823731</td>\n",
              "      <td>0.77</td>\n",
              "      <td>0</td>\n",
              "    </tr>\n",
              "    <tr>\n",
              "      <th>284803</th>\n",
              "      <td>-0.732789</td>\n",
              "      <td>-0.055080</td>\n",
              "      <td>2.035030</td>\n",
              "      <td>-0.738589</td>\n",
              "      <td>0.868229</td>\n",
              "      <td>1.058415</td>\n",
              "      <td>0.024330</td>\n",
              "      <td>0.294869</td>\n",
              "      <td>0.584800</td>\n",
              "      <td>-0.975926</td>\n",
              "      <td>...</td>\n",
              "      <td>0.214205</td>\n",
              "      <td>0.924384</td>\n",
              "      <td>0.012463</td>\n",
              "      <td>-1.016226</td>\n",
              "      <td>-0.606624</td>\n",
              "      <td>-0.395255</td>\n",
              "      <td>0.068472</td>\n",
              "      <td>-0.053527</td>\n",
              "      <td>24.79</td>\n",
              "      <td>0</td>\n",
              "    </tr>\n",
              "    <tr>\n",
              "      <th>284804</th>\n",
              "      <td>1.919565</td>\n",
              "      <td>-0.301254</td>\n",
              "      <td>-3.249640</td>\n",
              "      <td>-0.557828</td>\n",
              "      <td>2.630515</td>\n",
              "      <td>3.031260</td>\n",
              "      <td>-0.296827</td>\n",
              "      <td>0.708417</td>\n",
              "      <td>0.432454</td>\n",
              "      <td>-0.484782</td>\n",
              "      <td>...</td>\n",
              "      <td>0.232045</td>\n",
              "      <td>0.578229</td>\n",
              "      <td>-0.037501</td>\n",
              "      <td>0.640134</td>\n",
              "      <td>0.265745</td>\n",
              "      <td>-0.087371</td>\n",
              "      <td>0.004455</td>\n",
              "      <td>-0.026561</td>\n",
              "      <td>67.88</td>\n",
              "      <td>0</td>\n",
              "    </tr>\n",
              "    <tr>\n",
              "      <th>284805</th>\n",
              "      <td>-0.240440</td>\n",
              "      <td>0.530483</td>\n",
              "      <td>0.702510</td>\n",
              "      <td>0.689799</td>\n",
              "      <td>-0.377961</td>\n",
              "      <td>0.623708</td>\n",
              "      <td>-0.686180</td>\n",
              "      <td>0.679145</td>\n",
              "      <td>0.392087</td>\n",
              "      <td>-0.399126</td>\n",
              "      <td>...</td>\n",
              "      <td>0.265245</td>\n",
              "      <td>0.800049</td>\n",
              "      <td>-0.163298</td>\n",
              "      <td>0.123205</td>\n",
              "      <td>-0.569159</td>\n",
              "      <td>0.546668</td>\n",
              "      <td>0.108821</td>\n",
              "      <td>0.104533</td>\n",
              "      <td>10.00</td>\n",
              "      <td>0</td>\n",
              "    </tr>\n",
              "    <tr>\n",
              "      <th>284806</th>\n",
              "      <td>-0.533413</td>\n",
              "      <td>-0.189733</td>\n",
              "      <td>0.703337</td>\n",
              "      <td>-0.506271</td>\n",
              "      <td>-0.012546</td>\n",
              "      <td>-0.649617</td>\n",
              "      <td>1.577006</td>\n",
              "      <td>-0.414650</td>\n",
              "      <td>0.486180</td>\n",
              "      <td>-0.915427</td>\n",
              "      <td>...</td>\n",
              "      <td>0.261057</td>\n",
              "      <td>0.643078</td>\n",
              "      <td>0.376777</td>\n",
              "      <td>0.008797</td>\n",
              "      <td>-0.473649</td>\n",
              "      <td>-0.818267</td>\n",
              "      <td>-0.002415</td>\n",
              "      <td>0.013649</td>\n",
              "      <td>217.00</td>\n",
              "      <td>0</td>\n",
              "    </tr>\n",
              "  </tbody>\n",
              "</table>\n",
              "<p>284807 rows × 30 columns</p>\n",
              "</div>\n",
              "      <button class=\"colab-df-convert\" onclick=\"convertToInteractive('df-cf658d29-a790-4ac6-bbee-77552332de1c')\"\n",
              "              title=\"Convert this dataframe to an interactive table.\"\n",
              "              style=\"display:none;\">\n",
              "\n",
              "  <svg xmlns=\"http://www.w3.org/2000/svg\" height=\"24px\"viewBox=\"0 0 24 24\"\n",
              "       width=\"24px\">\n",
              "    <path d=\"M0 0h24v24H0V0z\" fill=\"none\"/>\n",
              "    <path d=\"M18.56 5.44l.94 2.06.94-2.06 2.06-.94-2.06-.94-.94-2.06-.94 2.06-2.06.94zm-11 1L8.5 8.5l.94-2.06 2.06-.94-2.06-.94L8.5 2.5l-.94 2.06-2.06.94zm10 10l.94 2.06.94-2.06 2.06-.94-2.06-.94-.94-2.06-.94 2.06-2.06.94z\"/><path d=\"M17.41 7.96l-1.37-1.37c-.4-.4-.92-.59-1.43-.59-.52 0-1.04.2-1.43.59L10.3 9.45l-7.72 7.72c-.78.78-.78 2.05 0 2.83L4 21.41c.39.39.9.59 1.41.59.51 0 1.02-.2 1.41-.59l7.78-7.78 2.81-2.81c.8-.78.8-2.07 0-2.86zM5.41 20L4 18.59l7.72-7.72 1.47 1.35L5.41 20z\"/>\n",
              "  </svg>\n",
              "      </button>\n",
              "\n",
              "\n",
              "\n",
              "    <div id=\"df-5f7ac3db-f41b-4625-9ca0-d3a6a914581a\">\n",
              "      <button class=\"colab-df-quickchart\" onclick=\"quickchart('df-5f7ac3db-f41b-4625-9ca0-d3a6a914581a')\"\n",
              "              title=\"Suggest charts.\"\n",
              "              style=\"display:none;\">\n",
              "\n",
              "<svg xmlns=\"http://www.w3.org/2000/svg\" height=\"24px\"viewBox=\"0 0 24 24\"\n",
              "     width=\"24px\">\n",
              "    <g>\n",
              "        <path d=\"M19 3H5c-1.1 0-2 .9-2 2v14c0 1.1.9 2 2 2h14c1.1 0 2-.9 2-2V5c0-1.1-.9-2-2-2zM9 17H7v-7h2v7zm4 0h-2V7h2v10zm4 0h-2v-4h2v4z\"/>\n",
              "    </g>\n",
              "</svg>\n",
              "      </button>\n",
              "    </div>\n",
              "\n",
              "<style>\n",
              "  .colab-df-quickchart {\n",
              "    background-color: #E8F0FE;\n",
              "    border: none;\n",
              "    border-radius: 50%;\n",
              "    cursor: pointer;\n",
              "    display: none;\n",
              "    fill: #1967D2;\n",
              "    height: 32px;\n",
              "    padding: 0 0 0 0;\n",
              "    width: 32px;\n",
              "  }\n",
              "\n",
              "  .colab-df-quickchart:hover {\n",
              "    background-color: #E2EBFA;\n",
              "    box-shadow: 0px 1px 2px rgba(60, 64, 67, 0.3), 0px 1px 3px 1px rgba(60, 64, 67, 0.15);\n",
              "    fill: #174EA6;\n",
              "  }\n",
              "\n",
              "  [theme=dark] .colab-df-quickchart {\n",
              "    background-color: #3B4455;\n",
              "    fill: #D2E3FC;\n",
              "  }\n",
              "\n",
              "  [theme=dark] .colab-df-quickchart:hover {\n",
              "    background-color: #434B5C;\n",
              "    box-shadow: 0px 1px 3px 1px rgba(0, 0, 0, 0.15);\n",
              "    filter: drop-shadow(0px 1px 2px rgba(0, 0, 0, 0.3));\n",
              "    fill: #FFFFFF;\n",
              "  }\n",
              "</style>\n",
              "\n",
              "    <script>\n",
              "      async function quickchart(key) {\n",
              "        const containerElement = document.querySelector('#' + key);\n",
              "        const charts = await google.colab.kernel.invokeFunction(\n",
              "            'suggestCharts', [key], {});\n",
              "      }\n",
              "    </script>\n",
              "\n",
              "      <script>\n",
              "\n",
              "function displayQuickchartButton(domScope) {\n",
              "  let quickchartButtonEl =\n",
              "    domScope.querySelector('#df-5f7ac3db-f41b-4625-9ca0-d3a6a914581a button.colab-df-quickchart');\n",
              "  quickchartButtonEl.style.display =\n",
              "    google.colab.kernel.accessAllowed ? 'block' : 'none';\n",
              "}\n",
              "\n",
              "        displayQuickchartButton(document);\n",
              "      </script>\n",
              "      <style>\n",
              "    .colab-df-container {\n",
              "      display:flex;\n",
              "      flex-wrap:wrap;\n",
              "      gap: 12px;\n",
              "    }\n",
              "\n",
              "    .colab-df-convert {\n",
              "      background-color: #E8F0FE;\n",
              "      border: none;\n",
              "      border-radius: 50%;\n",
              "      cursor: pointer;\n",
              "      display: none;\n",
              "      fill: #1967D2;\n",
              "      height: 32px;\n",
              "      padding: 0 0 0 0;\n",
              "      width: 32px;\n",
              "    }\n",
              "\n",
              "    .colab-df-convert:hover {\n",
              "      background-color: #E2EBFA;\n",
              "      box-shadow: 0px 1px 2px rgba(60, 64, 67, 0.3), 0px 1px 3px 1px rgba(60, 64, 67, 0.15);\n",
              "      fill: #174EA6;\n",
              "    }\n",
              "\n",
              "    [theme=dark] .colab-df-convert {\n",
              "      background-color: #3B4455;\n",
              "      fill: #D2E3FC;\n",
              "    }\n",
              "\n",
              "    [theme=dark] .colab-df-convert:hover {\n",
              "      background-color: #434B5C;\n",
              "      box-shadow: 0px 1px 3px 1px rgba(0, 0, 0, 0.15);\n",
              "      filter: drop-shadow(0px 1px 2px rgba(0, 0, 0, 0.3));\n",
              "      fill: #FFFFFF;\n",
              "    }\n",
              "  </style>\n",
              "\n",
              "      <script>\n",
              "        const buttonEl =\n",
              "          document.querySelector('#df-cf658d29-a790-4ac6-bbee-77552332de1c button.colab-df-convert');\n",
              "        buttonEl.style.display =\n",
              "          google.colab.kernel.accessAllowed ? 'block' : 'none';\n",
              "\n",
              "        async function convertToInteractive(key) {\n",
              "          const element = document.querySelector('#df-cf658d29-a790-4ac6-bbee-77552332de1c');\n",
              "          const dataTable =\n",
              "            await google.colab.kernel.invokeFunction('convertToInteractive',\n",
              "                                                     [key], {});\n",
              "          if (!dataTable) return;\n",
              "\n",
              "          const docLinkHtml = 'Like what you see? Visit the ' +\n",
              "            '<a target=\"_blank\" href=https://colab.research.google.com/notebooks/data_table.ipynb>data table notebook</a>'\n",
              "            + ' to learn more about interactive tables.';\n",
              "          element.innerHTML = '';\n",
              "          dataTable['output_type'] = 'display_data';\n",
              "          await google.colab.output.renderOutput(dataTable, element);\n",
              "          const docLink = document.createElement('div');\n",
              "          docLink.innerHTML = docLinkHtml;\n",
              "          element.appendChild(docLink);\n",
              "        }\n",
              "      </script>\n",
              "    </div>\n",
              "  </div>\n"
            ]
          },
          "metadata": {},
          "execution_count": 107
        }
      ],
      "source": [
        "# Time 변수 삭제\n",
        "data=data.iloc[:,1:31]\n",
        "data"
      ]
    },
    {
      "cell_type": "markdown",
      "metadata": {
        "id": "hARPVukderm5"
      },
      "source": [
        "* time 변수가 사라졌다."
      ]
    },
    {
      "cell_type": "markdown",
      "metadata": {
        "id": "uzbLrXyee7eV"
      },
      "source": [
        "## 2.Data Preprocessing\n",
        "* 이제 분석을 용이하게 하기 위해 데이터 전처리 과정을 시도한다."
      ]
    },
    {
      "cell_type": "markdown",
      "metadata": {
        "id": "ONsnoj8zXisu"
      },
      "source": [
        "* 설명변수와 종속변수 각각을 x_data, y_data로 나누어준다."
      ]
    },
    {
      "cell_type": "code",
      "execution_count": 108,
      "metadata": {
        "colab": {
          "base_uri": "https://localhost:8080/"
        },
        "id": "JD4-OnO3XgdS",
        "outputId": "259dd25f-29b5-4704-cc83-65008b305ccf"
      },
      "outputs": [
        {
          "output_type": "stream",
          "name": "stdout",
          "text": [
            "(284807, 29) (284807, 1)\n"
          ]
        }
      ],
      "source": [
        "x_data=data.iloc[:,0:29]\n",
        "y_data=data.iloc[:,29:30]\n",
        "\n",
        "x_data=np.array(x_data, dtype=np.float32)\n",
        "y_data=np.array(y_data, dtype=np.float32)\n",
        "\n",
        "print(x_data.shape, y_data.shape)"
      ]
    },
    {
      "cell_type": "markdown",
      "metadata": {
        "id": "CkhTUcxkfNyL"
      },
      "source": [
        "* 우리의 데이터 중 amount변수는 단위가 나머지 변수들과 다르므로, 모든 변수들의 데이터 단위를 동일하게 맞춰주는 scaling과정을 거친다."
      ]
    },
    {
      "cell_type": "code",
      "execution_count": 109,
      "metadata": {
        "id": "wcqbZKHLXxqI"
      },
      "outputs": [],
      "source": [
        "from sklearn.preprocessing import MinMaxScaler\n",
        "scaler=MinMaxScaler()\n",
        "x_scaled_data=scaler.fit_transform(x_data)"
      ]
    },
    {
      "cell_type": "markdown",
      "metadata": {
        "id": "y3g8-jxafnY4"
      },
      "source": [
        "## 3.Logistic Regression Model"
      ]
    },
    {
      "cell_type": "markdown",
      "metadata": {
        "id": "0Gez6bEkf8BW"
      },
      "source": [
        "* 일단 첫 번째로 시도할 수 있는 방법은 가장 간단한 모델인 로지스틱 회귀 모형을 세워보는 것이다.\n"
      ]
    },
    {
      "cell_type": "markdown",
      "metadata": {
        "id": "2baE_gyNgFHk"
      },
      "source": [
        "### 3.1 Parmater Initialization"
      ]
    },
    {
      "cell_type": "code",
      "execution_count": 110,
      "metadata": {
        "id": "ADnaJnEmgD8S"
      },
      "outputs": [],
      "source": [
        "import tensorflow as tf\n",
        "tf.random.set_seed(22)\n",
        "W=tf.Variable(tf.random.normal([29,1], mean=0.0))\n",
        "b=tf.Variable(tf.random.normal([1], mean=0.0))\n"
      ]
    },
    {
      "cell_type": "markdown",
      "metadata": {
        "id": "LeR34Fh7g4eC"
      },
      "source": [
        "* W: 앞에는 input dimension, 뒤에는 output dimension으로 설정해야 한다.\n",
        "* b: output dimension과 동일하게 설정한다."
      ]
    },
    {
      "cell_type": "code",
      "execution_count": 111,
      "metadata": {
        "colab": {
          "base_uri": "https://localhost:8080/"
        },
        "id": "SCRE2pcljSi1",
        "outputId": "ccf1d1eb-b79f-43b1-e7e8-113d32d8e020"
      },
      "outputs": [
        {
          "output_type": "stream",
          "name": "stdout",
          "text": [
            "<dtype: 'float32'>\n",
            "float32\n"
          ]
        }
      ],
      "source": [
        "print(W.dtype)\n",
        "print(x_scaled_data.dtype)"
      ]
    },
    {
      "cell_type": "markdown",
      "metadata": {
        "id": "LNnHwS21gxwh"
      },
      "source": [
        "### 3.2 Hypothesis Define"
      ]
    },
    {
      "cell_type": "code",
      "execution_count": 112,
      "metadata": {
        "id": "St4LEdABgw6z"
      },
      "outputs": [],
      "source": [
        "def hypothesis(x):\n",
        "  z=tf.matmul(x,W)+b\n",
        "  sigmoid=1/(1+tf.exp(-z))\n",
        "  return sigmoid"
      ]
    },
    {
      "cell_type": "markdown",
      "metadata": {
        "id": "LpF8bU-VhS4O"
      },
      "source": [
        "* Feature와 Label사이의 관계를 정의해주는 부분이다.\n",
        "* 여기서는 이진분류 문제에 주로 사용되는 logistic regression을 hypothesis로 설정해주었다."
      ]
    },
    {
      "cell_type": "markdown",
      "metadata": {
        "id": "Jtvd_DDOhbsc"
      },
      "source": [
        "### 3.3 Cost Function Define"
      ]
    },
    {
      "cell_type": "code",
      "execution_count": 113,
      "metadata": {
        "id": "YZZOwl5thfx2"
      },
      "outputs": [],
      "source": [
        "def cost_function(H,Y):\n",
        "  cost=-tf.reduce_mean(Y*tf.math.log(H)+(1-Y)*tf.math.log(1-H))\n",
        "  return cost"
      ]
    },
    {
      "cell_type": "markdown",
      "metadata": {
        "id": "KLiugChuhr84"
      },
      "source": [
        "* Cost function을 이진 분류에서 주로 사용되는 Cross entropy로 설정하였다."
      ]
    },
    {
      "cell_type": "markdown",
      "metadata": {
        "id": "qA5PzRexh9Bo"
      },
      "source": [
        "### 3.4 Metric Define"
      ]
    },
    {
      "cell_type": "code",
      "execution_count": 114,
      "metadata": {
        "id": "qfY5l6mCh_a6"
      },
      "outputs": [],
      "source": [
        "def accuracy(hypo, label):\n",
        "  predicted=tf.cast(hypo>0.5, dtype=tf.float32)\n",
        "  accuracyd=tf.reduce_mean(tf.cast(tf.equal(predicted, label), dtype=tf.float32))\n",
        "  return accuracyd"
      ]
    },
    {
      "cell_type": "markdown",
      "metadata": {
        "id": "rhWquQ_8iOwq"
      },
      "source": [
        "* 실제 모델의 퍼포먼스를 측정하는 기준을 설정한다. 일반적으로 가장 많이 쓰이는 Accuracy를 우선 설정해준다."
      ]
    },
    {
      "cell_type": "markdown",
      "metadata": {
        "id": "KohbA2W9iVY4"
      },
      "source": [
        "### 3.5 Hyper-parameter setting\n",
        "* 학습을 진행하기 위해 학습률과 optimizer를 정의해준다."
      ]
    },
    {
      "cell_type": "code",
      "execution_count": 115,
      "metadata": {
        "id": "zC5xSNGLifh3"
      },
      "outputs": [],
      "source": [
        "learning_rate=0.0001\n",
        "optimizer=tf.optimizers.SGD(learning_rate)"
      ]
    },
    {
      "cell_type": "markdown",
      "metadata": {
        "id": "1hJ9r213ioR2"
      },
      "source": [
        "### 3.6 Training"
      ]
    },
    {
      "cell_type": "markdown",
      "metadata": {
        "id": "NVnHYNjQ0sYf"
      },
      "source": [
        "이제 모델을 학습시켜 손실을 최소화 시켜주는 weight와 bias를 찾으므로써 최적의 함수를 찾아준다."
      ]
    },
    {
      "cell_type": "code",
      "execution_count": 116,
      "metadata": {
        "colab": {
          "base_uri": "https://localhost:8080/"
        },
        "id": "F_uBB7DDin9o",
        "outputId": "4d508ccf-55a2-4edb-e058-5691303bd167"
      },
      "outputs": [
        {
          "output_type": "stream",
          "name": "stdout",
          "text": [
            "step: 0, loss: 0.015813225880265236\n",
            "step: 200, loss: 0.01580575853586197\n",
            "step: 400, loss: 0.015798309817910194\n",
            "step: 600, loss: 0.015790868550539017\n",
            "step: 800, loss: 0.015783440321683884\n",
            "step: 1000, loss: 0.015776025131344795\n",
            "step: 1200, loss: 0.015768621116876602\n",
            "step: 1400, loss: 0.015761228278279305\n",
            "step: 1600, loss: 0.0157538540661335\n",
            "step: 1800, loss: 0.015746500343084335\n",
            "step: 2000, loss: 0.015739159658551216\n"
          ]
        }
      ],
      "source": [
        "for step in range(2022):\n",
        "  with tf.GradientTape() as g:\n",
        "    pred=hypothesis(x_scaled_data)\n",
        "    cost=cost_function(pred,y_data)\n",
        "\n",
        "    gradients=g.gradient(cost, [W,b])\n",
        "    optimizer.apply_gradients(zip(gradients, [W,b]))\n",
        "\n",
        "    if step % 200 ==0:\n",
        "      print(f\"step: {step}, loss: {cost.numpy()}\")\n",
        "\n",
        "w_hat=W.numpy()\n",
        "b_hat=b.numpy()\n"
      ]
    },
    {
      "cell_type": "markdown",
      "metadata": {
        "id": "DBfT8QkUlazN"
      },
      "source": [
        "### 3.7 Performance\n"
      ]
    },
    {
      "cell_type": "code",
      "execution_count": 117,
      "metadata": {
        "colab": {
          "base_uri": "https://localhost:8080/"
        },
        "id": "s2zvK9Zvlf13",
        "outputId": "cb5549d0-cfed-4b39-95fb-c27819bc1ea8"
      },
      "outputs": [
        {
          "output_type": "stream",
          "name": "stdout",
          "text": [
            "Accuracy:0.9982725381851196\n"
          ]
        }
      ],
      "source": [
        "acc=accuracy(hypothesis(x_scaled_data), y_data).numpy()\n",
        "print(f\"Accuracy:{acc}\")"
      ]
    },
    {
      "cell_type": "markdown",
      "metadata": {
        "id": "tSkbF4eUl3nC"
      },
      "source": [
        "* 99.8%로 높은 Accuracy를 보인다. 그러나 이 모델은 학습을 하는데 imbalance한 데이터를 사용했으므로, 적절한 평가기준이 될 수 없다.\n",
        "* 그러므로 Precision과 Recall의 측면에서 모델을 다시 한번 평가해본다."
      ]
    },
    {
      "cell_type": "markdown",
      "metadata": {
        "id": "FtNtGrt9mIBQ"
      },
      "source": [
        "### 3.8 Precision, recall, F1 score"
      ]
    },
    {
      "cell_type": "code",
      "execution_count": 118,
      "metadata": {
        "id": "YZM20vP2mNrS"
      },
      "outputs": [],
      "source": [
        "from sklearn.metrics import accuracy_score, classification_report, f1_score"
      ]
    },
    {
      "cell_type": "code",
      "execution_count": 119,
      "metadata": {
        "id": "Y3S29nxfmSoF"
      },
      "outputs": [],
      "source": [
        "predicted_x=tf.cast(hypothesis(x_scaled_data)>0.5, dtype=tf.float32)\n"
      ]
    },
    {
      "cell_type": "code",
      "execution_count": 120,
      "metadata": {
        "colab": {
          "base_uri": "https://localhost:8080/"
        },
        "id": "Jgy8U4KBmbDQ",
        "outputId": "6a6c242a-22a3-4a54-e75d-7b3f6767c20d"
      },
      "outputs": [
        {
          "output_type": "stream",
          "name": "stdout",
          "text": [
            "Accuracy= 0.9982725143693799\n"
          ]
        },
        {
          "output_type": "stream",
          "name": "stderr",
          "text": [
            "/usr/local/lib/python3.10/dist-packages/sklearn/metrics/_classification.py:1344: UndefinedMetricWarning: Recall and F-score are ill-defined and being set to 0.0 in labels with no true samples. Use `zero_division` parameter to control this behavior.\n",
            "  _warn_prf(average, modifier, msg_start, len(result))\n"
          ]
        },
        {
          "output_type": "stream",
          "name": "stdout",
          "text": [
            "Report=\n",
            "               precision    recall  f1-score   support\n",
            "\n",
            "         0.0       1.00      1.00      1.00    284807\n",
            "         1.0       0.00      0.00      0.00         0\n",
            "\n",
            "    accuracy                           1.00    284807\n",
            "   macro avg       0.50      0.50      0.50    284807\n",
            "weighted avg       1.00      1.00      1.00    284807\n",
            "\n"
          ]
        },
        {
          "output_type": "stream",
          "name": "stderr",
          "text": [
            "/usr/local/lib/python3.10/dist-packages/sklearn/metrics/_classification.py:1344: UndefinedMetricWarning: Recall and F-score are ill-defined and being set to 0.0 in labels with no true samples. Use `zero_division` parameter to control this behavior.\n",
            "  _warn_prf(average, modifier, msg_start, len(result))\n",
            "/usr/local/lib/python3.10/dist-packages/sklearn/metrics/_classification.py:1344: UndefinedMetricWarning: Recall and F-score are ill-defined and being set to 0.0 in labels with no true samples. Use `zero_division` parameter to control this behavior.\n",
            "  _warn_prf(average, modifier, msg_start, len(result))\n"
          ]
        }
      ],
      "source": [
        "print(\"Accuracy=\", accuracy_score(predicted_x, y_data))\n",
        "print(\"Report=\\n\", classification_report(predicted_x, y_data))"
      ]
    },
    {
      "cell_type": "markdown",
      "metadata": {
        "id": "GlhU2HftmpLb"
      },
      "source": [
        "* 대안적인 평가기준에서 살펴보았을 때는 정상거래를 정상거래로 잘 판단하였지만, 이상 거래에 대해서는 전혀 잡지 못하는 것을 확인할 수 있다.\n",
        "* 따라서 새로운 구조의 모델링을 시도하는 것이 필요해 보인다."
      ]
    },
    {
      "cell_type": "markdown",
      "metadata": {
        "id": "V-RscZQ8numF"
      },
      "source": [
        "## 4.ANN model\n"
      ]
    },
    {
      "cell_type": "markdown",
      "metadata": {
        "id": "4hJiurlDVr72"
      },
      "source": [
        "* 먼저 기본적인 인공신경망 모델링을 통해 예측을 시도해보려고 한다."
      ]
    },
    {
      "cell_type": "markdown",
      "metadata": {
        "id": "QG9UAw8u5otP"
      },
      "source": [
        "* 그 전에 먼저 데이터들을 초기화하여 준다."
      ]
    },
    {
      "cell_type": "code",
      "execution_count": 121,
      "metadata": {
        "colab": {
          "base_uri": "https://localhost:8080/"
        },
        "id": "gJFIoo725bez",
        "outputId": "2132fae3-6834-49e8-d781-fe5b8a97620a"
      },
      "outputs": [
        {
          "output_type": "stream",
          "name": "stdout",
          "text": [
            "(284807, 29) (284807, 1)\n"
          ]
        }
      ],
      "source": [
        "x_data=data.iloc[:,0:29]\n",
        "y_data=data.iloc[:,29:30]\n",
        "\n",
        "\n",
        "print(x_data.shape, y_data.shape)"
      ]
    },
    {
      "cell_type": "code",
      "execution_count": 122,
      "metadata": {
        "id": "HDnRgZG85jU7"
      },
      "outputs": [],
      "source": [
        "from sklearn.preprocessing import MinMaxScaler\n",
        "scaler=MinMaxScaler()\n",
        "x_scaled_data=scaler.fit_transform(x_data)"
      ]
    },
    {
      "cell_type": "markdown",
      "metadata": {
        "id": "WCKCxqUQp2KL"
      },
      "source": [
        "### 4.1 Data split\n",
        "* 모델 학습과 평가를 위해 데이터들을 training data와 test data로 나누는 작업을 실시한다."
      ]
    },
    {
      "cell_type": "code",
      "execution_count": 123,
      "metadata": {
        "colab": {
          "base_uri": "https://localhost:8080/"
        },
        "id": "x5p73V2ZYfdv",
        "outputId": "047bc94c-2e5a-4487-d021-27df96ddc30b"
      },
      "outputs": [
        {
          "output_type": "stream",
          "name": "stdout",
          "text": [
            "Train set shape (227845, 29) (227845, 1)\n",
            "Test set shape: (56962, 29) (56962, 1)\n"
          ]
        }
      ],
      "source": [
        "from sklearn.model_selection import train_test_split\n",
        "x_train, x_test, y_train, y_test=train_test_split(x_scaled_data, y_data, test_size=0.2,random_state=42 )\n",
        "print(\"Train set shape\", x_train.shape, y_train.shape)\n",
        "print(\"Test set shape:\", x_test.shape, y_test.shape)"
      ]
    },
    {
      "cell_type": "markdown",
      "metadata": {
        "id": "O6_8YnfSkcPa"
      },
      "source": [
        "* Training data를 다시 validation data로 나누어준다."
      ]
    },
    {
      "cell_type": "code",
      "execution_count": 124,
      "metadata": {
        "colab": {
          "base_uri": "https://localhost:8080/"
        },
        "id": "vO-DLsspdzio",
        "outputId": "b22f2c89-602a-4f5d-ddd5-05966c452125"
      },
      "outputs": [
        {
          "output_type": "stream",
          "name": "stdout",
          "text": [
            "(182276, 29) (182276, 1)\n",
            "(45569, 29) (45569, 1)\n"
          ]
        }
      ],
      "source": [
        "x_train, x_validation, y_train, y_validation = train_test_split(x_train, y_train, test_size=0.2, random_state=42)\n",
        "print(x_train.shape, y_train.shape)\n",
        "print(x_validation.shape, y_validation.shape)"
      ]
    },
    {
      "cell_type": "markdown",
      "metadata": {
        "id": "gmfIk5Ilq09q"
      },
      "source": [
        "### 4.2 Model training (ANN)"
      ]
    },
    {
      "cell_type": "markdown",
      "metadata": {
        "id": "hg_zJKf4qMjI"
      },
      "source": [
        "* 훈련데이터를 사용하여 딥러닝 모델을 학습시켰다.\n",
        "* input layer, hidden layer, output layer로 총 5개의 층을 구성했다.\n",
        "* optimizer는 adam을 사용했고, loss function 또한 binary cross-entropy를 사용하였다.\n",
        "* batch size를 64로 하여 모델을 학습을 시도하였다."
      ]
    },
    {
      "cell_type": "code",
      "execution_count": 125,
      "metadata": {
        "colab": {
          "base_uri": "https://localhost:8080/"
        },
        "id": "aIxcokBIaJoQ",
        "outputId": "d6b90eeb-91ca-47cd-9bdf-8ca7bfd856c5"
      },
      "outputs": [
        {
          "output_type": "stream",
          "name": "stdout",
          "text": [
            "Epoch 1/10\n",
            "2849/2849 [==============================] - 43s 12ms/step - loss: 0.5681 - accuracy: 0.7311 - val_loss: 0.2748 - val_accuracy: 0.9986\n",
            "Epoch 2/10\n",
            "2849/2849 [==============================] - 33s 11ms/step - loss: 0.1520 - accuracy: 0.9831 - val_loss: 0.0491 - val_accuracy: 0.9986\n",
            "Epoch 3/10\n",
            "2849/2849 [==============================] - 32s 11ms/step - loss: 0.0389 - accuracy: 0.9979 - val_loss: 0.0141 - val_accuracy: 0.9986\n",
            "Epoch 4/10\n",
            "2849/2849 [==============================] - 32s 11ms/step - loss: 0.0186 - accuracy: 0.9982 - val_loss: 0.0097 - val_accuracy: 0.9986\n",
            "Epoch 5/10\n",
            "2849/2849 [==============================] - 32s 11ms/step - loss: 0.0142 - accuracy: 0.9982 - val_loss: 0.0086 - val_accuracy: 0.9986\n",
            "Epoch 6/10\n",
            "2849/2849 [==============================] - 33s 12ms/step - loss: 0.0128 - accuracy: 0.9982 - val_loss: 0.0077 - val_accuracy: 0.9986\n",
            "Epoch 7/10\n",
            "2849/2849 [==============================] - 32s 11ms/step - loss: 0.0114 - accuracy: 0.9982 - val_loss: 0.0071 - val_accuracy: 0.9986\n",
            "Epoch 8/10\n",
            "2849/2849 [==============================] - 33s 11ms/step - loss: 0.0099 - accuracy: 0.9982 - val_loss: 0.0067 - val_accuracy: 0.9986\n",
            "Epoch 9/10\n",
            "2849/2849 [==============================] - 33s 12ms/step - loss: 0.0084 - accuracy: 0.9983 - val_loss: 0.0064 - val_accuracy: 0.9986\n",
            "Epoch 10/10\n",
            "2849/2849 [==============================] - 32s 11ms/step - loss: 0.0073 - accuracy: 0.9985 - val_loss: 0.0063 - val_accuracy: 0.9986\n",
            "1781/1781 [==============================] - 7s 4ms/step - loss: 0.0076 - accuracy: 0.9983\n",
            "Test loss: 0.007609461434185505\n",
            "Test accuracy: 0.9982795715332031\n",
            "Training time: 6 m, 35 s\n"
          ]
        }
      ],
      "source": [
        "import tensorflow as tf\n",
        "from tensorflow import keras\n",
        "import time\n",
        "from keras import optimizers, metrics, callbacks\n",
        "start_time=time.time()\n",
        "\n",
        "model=keras.Sequential([\n",
        "    keras.layers.Dense(256, activation='relu', input_shape=(x_train.shape[1],)),\n",
        "    keras.layers.BatchNormalization(),\n",
        "    keras.layers.Dropout(0.3),\n",
        "    keras.layers.Dense(128, activation='relu'),\n",
        "    keras.layers.BatchNormalization(),\n",
        "    keras.layers.Dropout(0.3),\n",
        "    keras.layers.Dense(64, activation='relu'),\n",
        "    keras.layers.BatchNormalization(),\n",
        "    keras.layers.Dropout(0.3),\n",
        "    keras.layers.Dense(32, activation='relu'),\n",
        "    keras.layers.BatchNormalization(),\n",
        "    keras.layers.Dropout(0.3),\n",
        "    keras.layers.Dense(16, activation='relu'),\n",
        "    keras.layers.BatchNormalization(),\n",
        "    keras.layers.Dropout(0.3),\n",
        "    keras.layers.Dense(10, activation='softmax'),\n",
        "    keras.layers.BatchNormalization(),\n",
        "    keras.layers.Dropout(0.3),\n",
        "    keras.layers.Dense(1, activation='sigmoid')\n",
        "])\n",
        "optimizer=tf.keras.optimizers.Adam(learning_rate=learning_rate)\n",
        "\n",
        "model.compile(optimizer=optimizer, loss='binary_crossentropy', metrics=['accuracy'])\n",
        "\n",
        "history=model.fit(x_train, y_train, epochs=10, batch_size=64, validation_data=(x_validation, y_validation))\n",
        "\n",
        "loss, accuracy=model.evaluate(x_test, y_test)\n",
        "print(\"Test loss:\", loss)\n",
        "print(\"Test accuracy:\", accuracy)\\\n",
        "\n",
        "end_time=time.time()\n",
        "training_time=end_time - start_time\n",
        "minutes=int(training_time//60)\n",
        "seconds=int(training_time % 60)\n",
        "print(f\"Training time: {minutes} m, {seconds} s\")"
      ]
    },
    {
      "cell_type": "markdown",
      "metadata": {
        "id": "yxGXCU1byNoL"
      },
      "source": [
        "* 모델의 test accuracy는 약 98%로 높게 나타난 것을 확인할 수 있다.\n"
      ]
    },
    {
      "cell_type": "code",
      "execution_count": 126,
      "metadata": {
        "colab": {
          "base_uri": "https://localhost:8080/",
          "height": 961
        },
        "id": "XWf-upFmsIsP",
        "outputId": "90a93c1c-686a-4dad-d0c0-92b70a572bb9"
      },
      "outputs": [
        {
          "output_type": "display_data",
          "data": {
            "text/plain": [
              "<Figure size 1200x500 with 1 Axes>"
            ],
            "image/png": "[encoded data removed]"
          },
          "metadata": {}
        },
        {
          "output_type": "execute_result",
          "data": {
            "text/plain": [
              "<matplotlib.legend.Legend at 0x7ccbe0276f20>"
            ]
          },
          "metadata": {},
          "execution_count": 126
        },
        {
          "output_type": "display_data",
          "data": {
            "text/plain": [
              "<Figure size 640x480 with 1 Axes>"
            ],
            "image/png": "[encoded data removed]"
          },
          "metadata": {}
        }
      ],
      "source": [
        "plt.figure(figsize=(12,5))\n",
        "\n",
        "plt.subplot(1,2,1)\n",
        "plt.plot(history.history['loss'], label='Training Loss')\n",
        "plt.plot(history.history['val_loss'], label='Validation Loss')\n",
        "plt.title('Training and Validation Loss')\n",
        "plt.xlabel('Epochs')\n",
        "plt.ylabel('Loss')\n",
        "plt.legend()\n",
        "plt.show()\n",
        "\n",
        "plt.subplot(1,2,2)\n",
        "plt.plot(history.history['accuracy'], label='Training Accuracy')\n",
        "plt.plot(history.history['val_accuracy'], label='Validation Accuracy')\n",
        "plt.xlabel('Epochs')\n",
        "plt.ylabel('Accuracy')\n",
        "plt.title('Training and Validation accuracy')\n",
        "plt.legend()"
      ]
    },
    {
      "cell_type": "markdown",
      "metadata": {
        "id": "6hEc8Ekhyb8v"
      },
      "source": [
        "### 4.3 Precision, recall, f1 score\n",
        "* 다음은 우리의 모델의 평가기준인 precision, recall, f1score를 계산해보도록 하겠다."
      ]
    },
    {
      "cell_type": "code",
      "execution_count": 127,
      "metadata": {
        "colab": {
          "base_uri": "https://localhost:8080/"
        },
        "id": "BQscZVs4bsHY",
        "outputId": "e584e9d2-4cfa-4a4e-e883-6a191004563b"
      },
      "outputs": [
        {
          "output_type": "stream",
          "name": "stdout",
          "text": [
            "1781/1781 [==============================] - 4s 2ms/step\n",
            "              precision    recall  f1-score   support\n",
            "\n",
            "           0       1.00      1.00      1.00     56864\n",
            "           1       0.00      0.00      0.00        98\n",
            "\n",
            "    accuracy                           1.00     56962\n",
            "   macro avg       0.50      0.50      0.50     56962\n",
            "weighted avg       1.00      1.00      1.00     56962\n",
            "\n",
            "Confusion matrix:\n",
            "[[56864     0]\n",
            " [   98     0]]\n"
          ]
        },
        {
          "output_type": "stream",
          "name": "stderr",
          "text": [
            "/usr/local/lib/python3.10/dist-packages/sklearn/metrics/_classification.py:1344: UndefinedMetricWarning: Precision and F-score are ill-defined and being set to 0.0 in labels with no predicted samples. Use `zero_division` parameter to control this behavior.\n",
            "  _warn_prf(average, modifier, msg_start, len(result))\n",
            "/usr/local/lib/python3.10/dist-packages/sklearn/metrics/_classification.py:1344: UndefinedMetricWarning: Precision and F-score are ill-defined and being set to 0.0 in labels with no predicted samples. Use `zero_division` parameter to control this behavior.\n",
            "  _warn_prf(average, modifier, msg_start, len(result))\n",
            "/usr/local/lib/python3.10/dist-packages/sklearn/metrics/_classification.py:1344: UndefinedMetricWarning: Precision and F-score are ill-defined and being set to 0.0 in labels with no predicted samples. Use `zero_division` parameter to control this behavior.\n",
            "  _warn_prf(average, modifier, msg_start, len(result))\n"
          ]
        }
      ],
      "source": [
        "from sklearn.metrics import confusion_matrix, classification_report\n",
        "ANN_prob=model.predict(x_test)\n",
        "ANN_pred=np.where(ANN_prob>0.5,1,0)\n",
        "cm=confusion_matrix(y_test, ANN_pred)\n",
        "report=classification_report(y_test, ANN_pred)\n",
        "print(report)\n",
        "print(\"Confusion matrix:\")\n",
        "print(cm)"
      ]
    },
    {
      "cell_type": "markdown",
      "metadata": {
        "id": "8AVVFtxxey0C"
      },
      "source": [
        "* ANN 구조를 사용하였더니 precision과 recall이 모두 꽤 높은 수치가 나왔다는 것을 확인할 수 있었다.\n",
        "* precision은 84퍼센트가 나왔으며 이는 전체 이상거래라고 판단한 것 중 84퍼센트는 실제로 이상거래였다는 것을 의미한다.\n",
        "* 반면 recall은 79퍼센트가 나왔는데 이는 실제 이상거래 중 이상거래로 판단한 것의 비율이 79퍼센트였다는 것을 의미한다.\n",
        "* f1 스코어는 이 둘의 가중치로써 전체적인 모델의 성능을 평가할 수 있다. 이는 81퍼센트가 나왔다."
      ]
    },
    {
      "cell_type": "markdown",
      "metadata": {
        "id": "hg--uTrKOm7Y"
      },
      "source": [
        "## 5.Lasso\n",
        "* 라쏘 회귀를 변수선택 절차에 적용시켜 데이터의 변수를 줄이는 과정과 인공신경망에서의 정규화 과정을 시도해보았다.\n"
      ]
    },
    {
      "cell_type": "markdown",
      "metadata": {
        "id": "Lm0p7OfJYdF3"
      },
      "source": [
        "###5.1 Lasso(변수선택)\n",
        "\n",
        "* 다음은 lasso regression을 통해 데이터의 변수들을 줄여보는 시도를 해보았다."
      ]
    },
    {
      "cell_type": "markdown",
      "metadata": {
        "id": "niQA5stjZKmp"
      },
      "source": [
        "* 먼저 앞의 과정과 동일하게 종속변수와 독립변수로 분리를 해준 상태에서 x데이터만 스케일링을 해주었다."
      ]
    },
    {
      "cell_type": "code",
      "execution_count": 128,
      "metadata": {
        "colab": {
          "base_uri": "https://localhost:8080/"
        },
        "id": "bIcoZP6-Q9kw",
        "outputId": "ca1fcfcb-886e-4203-cf6f-7caae0a264b2"
      },
      "outputs": [
        {
          "output_type": "stream",
          "name": "stdout",
          "text": [
            "(284807, 29) (284807, 1)\n"
          ]
        }
      ],
      "source": [
        "x_data=data.iloc[:,0:29]\n",
        "y_data=data.iloc[:,29:30]\n",
        "\n",
        "\n",
        "print(x_data.shape, y_data.shape)\n",
        "from sklearn.preprocessing import MinMaxScaler\n",
        "scaler=MinMaxScaler()\n",
        "x_scaled_data=scaler.fit_transform(x_data)\n",
        "from imblearn.over_sampling import RandomOverSampler"
      ]
    },
    {
      "cell_type": "code",
      "execution_count": 129,
      "metadata": {
        "colab": {
          "base_uri": "https://localhost:8080/"
        },
        "id": "sABNJnYDlxL5",
        "outputId": "fd9a2072-8a66-4ff4-e55f-d155bfbc187b"
      },
      "outputs": [
        {
          "output_type": "stream",
          "name": "stderr",
          "text": [
            "/usr/local/lib/python3.10/dist-packages/sklearn/linear_model/_coordinate_descent.py:1568: DataConversionWarning: A column-vector y was passed when a 1d array was expected. Please change the shape of y to (n_samples, ), for example using ravel().\n",
            "  y = column_or_1d(y, warn=True)\n"
          ]
        },
        {
          "output_type": "stream",
          "name": "stdout",
          "text": [
            "선택된 변수들의 인덱스: [0, 1, 2, 3, 4, 5, 6, 8, 9, 10, 11, 13, 15, 16, 17, 18, 23]\n"
          ]
        }
      ],
      "source": [
        "from sklearn.linear_model import LassoCV\n",
        "from sklearn.linear_model import Lasso\n",
        "lasso_cv=LassoCV(cv=5)\n",
        "lasso_cv.fit(x_scaled_data,y_data)\n",
        "lambda_min=lasso_cv.alpha_\n",
        "\n",
        "selected_indices=list(np.where(lasso_cv.coef_ !=0)[0])\n",
        "x_selected=x_scaled_data[:, selected_indices]\n",
        "print(f\"선택된 변수들의 인덱스: {selected_indices}\")"
      ]
    },
    {
      "cell_type": "markdown",
      "metadata": {
        "id": "fhWgtBpDYqZL"
      },
      "source": [
        "* 교차검증법을 통해 최적의 람다 값을 구했으며, 이 람다값을 이용해 라쏘회귀를 적용해보았다.\n",
        "* 전체 변수 중 회귀계수가 0이 아닌 변수들은 위의 선택된 변수들이다."
      ]
    },
    {
      "cell_type": "code",
      "execution_count": 130,
      "metadata": {
        "colab": {
          "base_uri": "https://localhost:8080/"
        },
        "id": "0KlGQg2Jm2bQ",
        "outputId": "529d0b22-4dad-4fc4-becb-cee0b6d505c4"
      },
      "outputs": [
        {
          "output_type": "execute_result",
          "data": {
            "text/plain": [
              "(284807, 17)"
            ]
          },
          "metadata": {},
          "execution_count": 130
        }
      ],
      "source": [
        "x_selected.shape"
      ]
    },
    {
      "cell_type": "markdown",
      "metadata": {
        "id": "IpUj-972Y3kD"
      },
      "source": [
        "* 독립변수의 shape을 확인해보니 변수가 29개에서 17개로 축소된 것을 확인해 볼 수 있었다."
      ]
    },
    {
      "cell_type": "code",
      "execution_count": 131,
      "metadata": {
        "colab": {
          "base_uri": "https://localhost:8080/"
        },
        "id": "n98zkevLVpr8",
        "outputId": "7e49bda4-9f14-4e4c-c9d6-e261fe7e0823"
      },
      "outputs": [
        {
          "output_type": "stream",
          "name": "stdout",
          "text": [
            "Train set shape (227845, 17) (227845, 1)\n",
            "Test set shape: (56962, 17) (56962, 1)\n"
          ]
        }
      ],
      "source": [
        "from sklearn.model_selection import train_test_split\n",
        "x_train, x_test, y_train, y_test=train_test_split(x_selected, y_data, test_size=0.2,random_state=42 )\n",
        "print(\"Train set shape\", x_train.shape, y_train.shape)\n",
        "print(\"Test set shape:\", x_test.shape, y_test.shape)"
      ]
    },
    {
      "cell_type": "markdown",
      "metadata": {
        "id": "mLyJSbn6ZCQy"
      },
      "source": [
        "* 이를 다시 train dataset과 test dataset으로 분리하였다."
      ]
    },
    {
      "cell_type": "code",
      "execution_count": 132,
      "metadata": {
        "colab": {
          "base_uri": "https://localhost:8080/"
        },
        "id": "NckdOaUae8zO",
        "outputId": "3d609a87-0815-4f11-a4d3-9788c87b41b3"
      },
      "outputs": [
        {
          "output_type": "stream",
          "name": "stdout",
          "text": [
            "(182276, 17) (182276, 1)\n",
            "(45569, 17) (45569, 1)\n"
          ]
        }
      ],
      "source": [
        "x_train, x_validation, y_train, y_validation = train_test_split(x_train, y_train, test_size=0.2, random_state=42)\n",
        "print(x_train.shape, y_train.shape)\n",
        "print(x_validation.shape, y_validation.shape)"
      ]
    },
    {
      "cell_type": "code",
      "execution_count": 133,
      "metadata": {
        "colab": {
          "base_uri": "https://localhost:8080/"
        },
        "id": "xA0B6D-kWyl3",
        "outputId": "ec304387-f5d8-4ac4-e311-c60a5138c43e"
      },
      "outputs": [
        {
          "output_type": "stream",
          "name": "stdout",
          "text": [
            "Epoch 1/10\n",
            "2849/2849 [==============================] - 20s 6ms/step - loss: 0.0282 - accuracy: 0.9982 - val_loss: 0.0062 - val_accuracy: 0.9988\n",
            "Epoch 2/10\n",
            "2849/2849 [==============================] - 16s 5ms/step - loss: 0.0047 - accuracy: 0.9990 - val_loss: 0.0030 - val_accuracy: 0.9993\n",
            "Epoch 3/10\n",
            "2849/2849 [==============================] - 17s 6ms/step - loss: 0.0039 - accuracy: 0.9993 - val_loss: 0.0026 - val_accuracy: 0.9996\n",
            "Epoch 4/10\n",
            "2849/2849 [==============================] - 17s 6ms/step - loss: 0.0037 - accuracy: 0.9993 - val_loss: 0.0025 - val_accuracy: 0.9996\n",
            "Epoch 5/10\n",
            "2849/2849 [==============================] - 28s 10ms/step - loss: 0.0037 - accuracy: 0.9993 - val_loss: 0.0025 - val_accuracy: 0.9995\n",
            "Epoch 6/10\n",
            "2849/2849 [==============================] - 17s 6ms/step - loss: 0.0037 - accuracy: 0.9993 - val_loss: 0.0025 - val_accuracy: 0.9995\n",
            "Epoch 7/10\n",
            "2849/2849 [==============================] - 17s 6ms/step - loss: 0.0036 - accuracy: 0.9993 - val_loss: 0.0025 - val_accuracy: 0.9995\n",
            "Epoch 8/10\n",
            "2849/2849 [==============================] - 16s 6ms/step - loss: 0.0036 - accuracy: 0.9993 - val_loss: 0.0025 - val_accuracy: 0.9996\n",
            "Epoch 9/10\n",
            "2849/2849 [==============================] - 17s 6ms/step - loss: 0.0036 - accuracy: 0.9993 - val_loss: 0.0025 - val_accuracy: 0.9996\n",
            "Epoch 10/10\n",
            "2849/2849 [==============================] - 17s 6ms/step - loss: 0.0036 - accuracy: 0.9993 - val_loss: 0.0026 - val_accuracy: 0.9995\n",
            "1781/1781 [==============================] - 5s 3ms/step - loss: 0.0035 - accuracy: 0.9993\n",
            "Test loss: 0.0035233621019870043\n",
            "Test accuracy: 0.9993153214454651\n",
            "Training time: 3 m, 28 s\n"
          ]
        }
      ],
      "source": [
        "import tensorflow as tf\n",
        "from tensorflow import keras\n",
        "from keras import optimizers, metrics, callbacks\n",
        "import time\n",
        "start_time=time.time()\n",
        "\n",
        "model1=keras.Sequential([\n",
        "    keras.layers.Dense(64, activation='relu', input_shape=(x_train.shape[1],)),\n",
        "\n",
        "    keras.layers.Dense(64, activation='relu'),\n",
        "\n",
        "    keras.layers.Dense(64, activation='relu'),\n",
        "    keras.layers.Dense(64, activation='relu'),\n",
        "\n",
        "    keras.layers.Dense(64, activation='relu'),\n",
        "\n",
        "    keras.layers.Dense(64, activation='relu'),\n",
        "\n",
        "    keras.layers.Dense(1, activation='sigmoid')\n",
        "])\n",
        "optimizer=tf.keras.optimizers.Adam(learning_rate=learning_rate)\n",
        "\n",
        "model1.compile(optimizer=optimizer, loss='binary_crossentropy', metrics=['accuracy'])\n",
        "\n",
        "history=model1.fit(x_train, y_train, epochs=10, batch_size=64, validation_data=(x_validation, y_validation))\n",
        "\n",
        "loss, accuracy=model1.evaluate(x_test, y_test)\n",
        "print(\"Test loss:\", loss)\n",
        "print(\"Test accuracy:\", accuracy)\n",
        "\n",
        "end_time=time.time()\n",
        "training_time=end_time - start_time\n",
        "\n",
        "minutes=int(training_time//60)\n",
        "seconds=int(training_time % 60)\n",
        "print(f\"Training time: {minutes} m, {seconds} s\")"
      ]
    },
    {
      "cell_type": "code",
      "execution_count": 134,
      "metadata": {
        "colab": {
          "base_uri": "https://localhost:8080/",
          "height": 961
        },
        "id": "PhBLtJa9jMwO",
        "outputId": "51401573-60c8-46b4-f6ae-6cad20d3ed42"
      },
      "outputs": [
        {
          "output_type": "display_data",
          "data": {
            "text/plain": [
              "<Figure size 1200x500 with 1 Axes>"
            ],
            "image/png": "[encoded data removed]"
          },
          "metadata": {}
        },
        {
          "output_type": "execute_result",
          "data": {
            "text/plain": [
              "<matplotlib.legend.Legend at 0x7ccbfa1772e0>"
            ]
          },
          "metadata": {},
          "execution_count": 134
        },
        {
          "output_type": "display_data",
          "data": {
            "text/plain": [
              "<Figure size 640x480 with 1 Axes>"
            ],
            "image/png": "[encoded data removed]"
          },
          "metadata": {}
        }
      ],
      "source": [
        "plt.figure(figsize=(12,5))\n",
        "\n",
        "plt.subplot(1,2,1)\n",
        "plt.plot(history.history['loss'], label='Training Loss')\n",
        "plt.plot(history.history['val_loss'], label='Validation Loss')\n",
        "plt.title('Training and Validation Loss')\n",
        "plt.xlabel('Epochs')\n",
        "plt.ylabel('Loss')\n",
        "plt.legend()\n",
        "plt.show()\n",
        "\n",
        "plt.subplot(1,2,2)\n",
        "plt.plot(history.history['accuracy'], label='Training Accuracy')\n",
        "plt.plot(history.history['val_accuracy'], label='Validation Accuracy')\n",
        "plt.xlabel('Epochs')\n",
        "plt.ylabel('Accuracy')\n",
        "plt.title('Training and Validation accuracy')\n",
        "plt.legend()"
      ]
    },
    {
      "cell_type": "code",
      "execution_count": 135,
      "metadata": {
        "colab": {
          "base_uri": "https://localhost:8080/"
        },
        "id": "Cl7zGKK3W93J",
        "outputId": "ac902f0e-7c05-4cf7-e356-a70f22d5208c"
      },
      "outputs": [
        {
          "output_type": "stream",
          "name": "stdout",
          "text": [
            "1781/1781 [==============================] - 4s 2ms/step\n",
            "              precision    recall  f1-score   support\n",
            "\n",
            "           0       1.00      1.00      1.00     56864\n",
            "           1       0.86      0.71      0.78        98\n",
            "\n",
            "    accuracy                           1.00     56962\n",
            "   macro avg       0.93      0.86      0.89     56962\n",
            "weighted avg       1.00      1.00      1.00     56962\n",
            "\n"
          ]
        }
      ],
      "source": [
        "from sklearn.metrics import confusion_matrix, classification_report\n",
        "\n",
        "\n",
        "x_scale_selected=x_scaled_data[:,selected_indices]\n",
        "L1_select_prob=model1.predict(x_test)\n",
        "L1_select_pred=np.where(L1_select_prob>0.5,1,0)\n",
        "cm=confusion_matrix(y_test, L1_select_pred)\n",
        "report=classification_report(y_test, L1_select_pred)\n",
        "print(report)\n",
        "\n"
      ]
    },
    {
      "cell_type": "markdown",
      "metadata": {
        "id": "69VySWIW0o7b"
      },
      "source": [
        "* 라쏘 회귀를 통해 변수선택을 한 후, ANN 모델링을 하였더니, 라쏘회귀 이전과 성능면에서 recall이 0.01정도 상승하여 f1score또한 82퍼센트까지 올랐으나 크게 성능이 증가하지는 않았다."
      ]
    },
    {
      "cell_type": "markdown",
      "metadata": {
        "id": "WRc5yOmyrghq"
      },
      "source": [
        "###5.2 Lasso(정규화)\n",
        "* 다음은 라쏘 회귀법을 신경망을 정규화하는 방법으로 사용하고자 하였다."
      ]
    },
    {
      "cell_type": "code",
      "execution_count": 136,
      "metadata": {
        "colab": {
          "base_uri": "https://localhost:8080/"
        },
        "id": "3QHoFvqZsz1z",
        "outputId": "5f07e7e7-51b0-4320-f41d-bfbd0c5675bb"
      },
      "outputs": [
        {
          "output_type": "stream",
          "name": "stdout",
          "text": [
            "(284807, 29) (284807, 1)\n"
          ]
        }
      ],
      "source": [
        "from sklearn.preprocessing import MinMaxScaler\n",
        "from imblearn.over_sampling import RandomOverSampler\n",
        "\n",
        "x_data=data.iloc[:,0:29]\n",
        "y_data=data.iloc[:,29:30]\n",
        "print(x_data.shape, y_data.shape)\n",
        "\n",
        "scaler=MinMaxScaler()\n",
        "x_scaled_data=scaler.fit_transform(x_data)\n"
      ]
    },
    {
      "cell_type": "code",
      "execution_count": 137,
      "metadata": {
        "colab": {
          "base_uri": "https://localhost:8080/"
        },
        "id": "kUYQKU11ry75",
        "outputId": "e7eec455-1ad2-4177-e157-830949ff7dc3"
      },
      "outputs": [
        {
          "output_type": "stream",
          "name": "stdout",
          "text": [
            "Train set shape (227845, 29) (227845, 1)\n",
            "Test set shape: (56962, 29) (56962, 1)\n",
            "(182276, 29) (182276, 1)\n",
            "(45569, 29) (45569, 1)\n"
          ]
        }
      ],
      "source": [
        "from sklearn.model_selection import train_test_split\n",
        "x_train, x_test, y_train, y_test=train_test_split(x_scaled_data, y_data, test_size=0.2,random_state=42 )\n",
        "print(\"Train set shape\", x_train.shape, y_train.shape)\n",
        "print(\"Test set shape:\", x_test.shape, y_test.shape)\n",
        "\n",
        "x_train, x_validation, y_train, y_validation = train_test_split(x_train, y_train, test_size=0.2, random_state=42)\n",
        "print(x_train.shape, y_train.shape)\n",
        "print(x_validation.shape, y_validation.shape)"
      ]
    },
    {
      "cell_type": "code",
      "execution_count": 138,
      "metadata": {
        "colab": {
          "base_uri": "https://localhost:8080/",
          "height": 251
        },
        "id": "mP1_JIn0rf-K",
        "outputId": "bff805e1-8cd0-4b3f-ae81-179af871bd48"
      },
      "outputs": [
        {
          "output_type": "error",
          "ename": "AttributeError",
          "evalue": "ignored",
          "traceback": [
            "\u001b[0;31m---------------------------------------------------------------------------\u001b[0m",
            "\u001b[0;31mAttributeError\u001b[0m                            Traceback (most recent call last)",
            "\u001b[0;32m<ipython-input-138-1dd546306dfe>\u001b[0m in \u001b[0;36m<cell line: 20>\u001b[0;34m()\u001b[0m\n\u001b[1;32m     18\u001b[0m \u001b[0;34m\u001b[0m\u001b[0m\n\u001b[1;32m     19\u001b[0m \u001b[0mmodel2\u001b[0m\u001b[0;34m.\u001b[0m\u001b[0mcompile\u001b[0m\u001b[0;34m(\u001b[0m\u001b[0moptimizer\u001b[0m\u001b[0;34m=\u001b[0m\u001b[0moptimizer\u001b[0m\u001b[0;34m,\u001b[0m \u001b[0mloss\u001b[0m\u001b[0;34m=\u001b[0m\u001b[0;34m'binary_crossentropy'\u001b[0m\u001b[0;34m,\u001b[0m \u001b[0mmetrics\u001b[0m\u001b[0;34m=\u001b[0m\u001b[0;34m[\u001b[0m\u001b[0;34m'accuracy'\u001b[0m\u001b[0;34m]\u001b[0m\u001b[0;34m)\u001b[0m\u001b[0;34m\u001b[0m\u001b[0;34m\u001b[0m\u001b[0m\n\u001b[0;32m---> 20\u001b[0;31m \u001b[0mcallbacks\u001b[0m\u001b[0;34m=\u001b[0m\u001b[0;34m[\u001b[0m\u001b[0mcallbacks\u001b[0m\u001b[0;34m.\u001b[0m\u001b[0mModelCheckpoint\u001b[0m\u001b[0;34m(\u001b[0m\u001b[0;34m'epoch.h5'\u001b[0m\u001b[0;34m)\u001b[0m\u001b[0;34m]\u001b[0m\u001b[0;34m\u001b[0m\u001b[0;34m\u001b[0m\u001b[0m\n\u001b[0m\u001b[1;32m     21\u001b[0m \u001b[0mhistory\u001b[0m\u001b[0;34m=\u001b[0m\u001b[0mmodel2\u001b[0m\u001b[0;34m.\u001b[0m\u001b[0mfit\u001b[0m\u001b[0;34m(\u001b[0m\u001b[0mx_train\u001b[0m\u001b[0;34m,\u001b[0m \u001b[0my_train\u001b[0m\u001b[0;34m,\u001b[0m \u001b[0mepochs\u001b[0m\u001b[0;34m=\u001b[0m\u001b[0;36m10\u001b[0m\u001b[0;34m,\u001b[0m \u001b[0mbatch_size\u001b[0m\u001b[0;34m=\u001b[0m\u001b[0;36m64\u001b[0m\u001b[0;34m,\u001b[0m \u001b[0mvalidation_data\u001b[0m\u001b[0;34m=\u001b[0m\u001b[0;34m(\u001b[0m\u001b[0mx_validation\u001b[0m\u001b[0;34m,\u001b[0m \u001b[0my_validation\u001b[0m\u001b[0;34m)\u001b[0m\u001b[0;34m,\u001b[0m \u001b[0mcallbacks\u001b[0m\u001b[0;34m=\u001b[0m\u001b[0mcallbacks\u001b[0m\u001b[0;34m)\u001b[0m\u001b[0;34m\u001b[0m\u001b[0;34m\u001b[0m\u001b[0m\n\u001b[1;32m     22\u001b[0m \u001b[0;34m\u001b[0m\u001b[0m\n",
            "\u001b[0;31mAttributeError\u001b[0m: 'list' object has no attribute 'ModelCheckpoint'"
          ]
        }
      ],
      "source": [
        "import tensorflow as tf\n",
        "from tensorflow import keras\n",
        "from tensorflow.keras import regularizers\n",
        "from keras import optimizers, metrics\n",
        "import time\n",
        "start_time=time.time()\n",
        "\n",
        "model2=keras.Sequential([\n",
        "    keras.layers.Dense(64, activation='relu', input_shape=(x_train.shape[1],), kernel_regularizer=regularizers.l1(lambda_min)),\n",
        "    keras.layers.Dense(64, activation='relu', kernel_regularizer=regularizers.l1(lambda_min)),\n",
        "    keras.layers.Dense(64, activation='relu', kernel_regularizer=regularizers.l1(lambda_min)),\n",
        "    keras.layers.Dense(64, activation='relu', kernel_regularizer=regularizers.l1(lambda_min)),\n",
        "    keras.layers.Dense(64, activation='relu', kernel_regularizer=regularizers.l1(lambda_min)),\n",
        "    keras.layers.Dense(64, activation='relu', kernel_regularizer=regularizers.l1(lambda_min)),\n",
        "    keras.layers.Dense(1, activation='sigmoid')\n",
        "])\n",
        "optimizer=tf.keras.optimizers.Adam(learning_rate=learning_rate)\n",
        "\n",
        "model2.compile(optimizer=optimizer, loss='binary_crossentropy', metrics=['accuracy'])\n",
        "\n",
        "history=model2.fit(x_train, y_train, epochs=10, batch_size=64, validation_data=(x_validation, y_validation))\n",
        "\n",
        "loss, accuracy=model2.evaluate(x_test, y_test)\n",
        "print(\"Test loss:\", loss)\n",
        "print(\"Test accuracy:\", accuracy)\n",
        "\n",
        "end_time=time.time()\n",
        "training_time=end_time - start_time\n",
        "\n",
        "minutes=int(training_time//60)\n",
        "seconds=int(training_time % 60)\n",
        "print(f\"Training time: {minutes} m, {seconds} s\")"
      ]
    },
    {
      "cell_type": "code",
      "execution_count": null,
      "metadata": {
        "id": "5jjw661yukz3"
      },
      "outputs": [],
      "source": [
        "plt.figure(figsize=(12,5))\n",
        "\n",
        "plt.subplot(1,2,1)\n",
        "plt.plot(history.history['loss'], label='Training Loss')\n",
        "plt.plot(history.history['val_loss'], label='Validation Loss')\n",
        "plt.title('Training and Validation Loss')\n",
        "plt.xlabel('Epochs')\n",
        "plt.ylabel('Loss')\n",
        "plt.legend()\n",
        "plt.show()\n",
        "\n",
        "plt.subplot(1,2,2)\n",
        "plt.plot(history.history['accuracy'], label='Training Accuracy')\n",
        "plt.plot(history.history['val_accuracy'], label='Validation Accuracy')\n",
        "plt.xlabel('Epochs')\n",
        "plt.ylabel('Accuracy')\n",
        "plt.title('Training and Validation accuracy')\n",
        "plt.legend()"
      ]
    },
    {
      "cell_type": "code",
      "execution_count": null,
      "metadata": {
        "id": "alJL6t_TuQMz"
      },
      "outputs": [],
      "source": [
        "from sklearn.metrics import confusion_matrix, classification_report\n",
        "L1_reg_prob=model2.predict(x_test)\n",
        "L1_reg_pred=np.where(L1_reg_prob>0.5,1,0)\n",
        "cm=confusion_matrix(y_test, L1_reg_pred)\n",
        "report=classification_report(y_test, L1_reg_pred)\n",
        "print(report)\n",
        "print(\"Confusion matrix:\")\n",
        "print(cm)"
      ]
    },
    {
      "cell_type": "markdown",
      "metadata": {
        "id": "D_Wc20eZMRXV"
      },
      "source": [
        "##6.Other Machine Learning Method"
      ]
    },
    {
      "cell_type": "markdown",
      "metadata": {
        "id": "pwbhpTubMg02"
      },
      "source": [
        "* 다른 통계적 기법의 머신러닝 모델들을 시도해보았다.\n"
      ]
    },
    {
      "cell_type": "markdown",
      "metadata": {
        "id": "gkyVknX8MmS7"
      },
      "source": [
        "###6.1 XGboost"
      ]
    },
    {
      "cell_type": "code",
      "execution_count": null,
      "metadata": {
        "id": "Ztj8j4kI0-4l"
      },
      "outputs": [],
      "source": [
        "x_train, x_test, y_train, y_test=train_test_split(x_scaled_data, y_data, test_size=0.2, random_state=42)\n"
      ]
    },
    {
      "cell_type": "code",
      "execution_count": null,
      "metadata": {
        "id": "Q8eRkkvTMyXW"
      },
      "outputs": [],
      "source": [
        "from xgboost import XGBClassifier\n",
        "xgboost_model=XGBClassifier()\n",
        "xgboost_model.fit(x_train, y_train, eval_metric='aucpr')\n",
        "xg_predict=tf.cast(xgboost_model.predict(x_test)>0.5, dtype=tf.float32)\n",
        "print(\"test report = \\n\", classification_report(xg_predict, y_test))"
      ]
    },
    {
      "cell_type": "markdown",
      "metadata": {
        "id": "Mwlu4kCaOpXt"
      },
      "source": [
        "###6.2 RandomForest\n"
      ]
    },
    {
      "cell_type": "code",
      "execution_count": null,
      "metadata": {
        "id": "tfFzz3yEOm49"
      },
      "outputs": [],
      "source": [
        "from sklearn.ensemble import RandomForestClassifier\n",
        "RandomForest_model=RandomForestClassifier(n_estimators=100, oob_score=False)\n",
        "RandomForest_model.fit(x_train, y_train)\n",
        "\n",
        "RF_predict=tf.cast(RandomForest_model.predict(x_test)>0.5, dtype=tf.float32)\n",
        "print(\"Test Report = \\n\", classification_report(RF_predict, y_test))"
      ]
    },
    {
      "cell_type": "markdown",
      "metadata": {
        "id": "LaLyzg1BPM0D"
      },
      "source": [
        "###6.3 Light Gradient Boosting\n"
      ]
    },
    {
      "cell_type": "code",
      "execution_count": null,
      "metadata": {
        "id": "24gsUaWFPL6d"
      },
      "outputs": [],
      "source": [
        "from lightgbm import LGBMClassifier\n",
        "LGBM_model=LGBMClassifier()\n",
        "LGBM_model.fit(x_train, y_train, eval_metric=\"aucpr\")\n",
        "LGBM_predict=tf.cast(LGBM_model.predict(x_test)>0.5, dtype=tf.float32)\n",
        "print(\"Test Report = \\n\", classification_report(LGBM_predict, y_test))"
      ]
    },
    {
      "cell_type": "markdown",
      "metadata": {
        "id": "rht_mN-XQB6L"
      },
      "source": [
        "###6.4 Support Vector Machine"
      ]
    },
    {
      "cell_type": "code",
      "execution_count": null,
      "metadata": {
        "id": "l4BUB-8EQFEd"
      },
      "outputs": [],
      "source": [
        "from sklearn.svm import SVC\n",
        "SVC_model=SVC(kernel='rbf')\n",
        "SVC_model.fit(x_train, y_train)\n",
        "\n",
        "SVC_predict=SVC_model.predict(x_test)\n",
        "print(\"Test Report = \\n\", classification_report(SVC_predict, y_test))"
      ]
    },
    {
      "cell_type": "markdown",
      "metadata": {
        "id": "SM9usUtQ657D"
      },
      "source": [
        "## 7.Model comparison"
      ]
    },
    {
      "cell_type": "code",
      "source": [
        "from sklearn.metrics import f1_score"
      ],
      "metadata": {
        "id": "ZRKZSgsvsRPF"
      },
      "execution_count": null,
      "outputs": []
    },
    {
      "cell_type": "code",
      "execution_count": null,
      "metadata": {
        "id": "eeqPMAFmS70z"
      },
      "outputs": [],
      "source": [
        "F1_dict={}\n",
        "F1_dict[\"ANN\"] = {\"Test\" : f1_score(ANN_pred, y_test)}\n",
        "F1_dict[\"L1_select_pred\"] = {\"Test\" : f1_score(L1_select_pred, y_test)}\n",
        "F1_dict[\"L1_regularized_pred\"] = {\"Test\" : f1_score(L1_reg_pred, y_test)}\n",
        "F1_dict[\"XGboost\"] = {\"Test\" : f1_score(xg_predict, y_test)}\n",
        "F1_dict[\"RandomForest\"] = {\"Test\" : f1_score(RF_predict, y_test)}\n",
        "F1_dict[\"LGBM\"] = {\"Test\" : f1_score(LGBM_predict, y_test)}\n",
        "F1_dict[\"SVM\"] = {\"Test\" : f1_score(SVC_predict, y_test)}"
      ]
    },
    {
      "cell_type": "code",
      "execution_count": null,
      "metadata": {
        "id": "iKZIwgeC9wz5"
      },
      "outputs": [],
      "source": [
        "F1_df = pd.DataFrame(F1_dict)\n",
        "F1_df.plot(kind='barh', figsize=(15, 8))"
      ]
    },
    {
      "cell_type": "code",
      "execution_count": null,
      "metadata": {
        "id": "44zxwdlV-hyU"
      },
      "outputs": [],
      "source": []
    }
  ],
  "metadata": {
    "accelerator": "GPU",
    "colab": {
      "provenance": [],
      "authorship_tag": "ABX9TyPE8Bsv3PS29fi+ABAER/oM",
      "include_colab_link": true
    },
    "kernelspec": {
      "display_name": "Python 3",
      "name": "python3"
    },
    "language_info": {
      "name": "python"
    }
  },
  "nbformat": 4,
  "nbformat_minor": 0
}